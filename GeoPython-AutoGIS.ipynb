{
 "cells": [
  {
   "cell_type": "markdown",
   "metadata": {
    "id": "_hL9VJ_X9fj_"
   },
   "source": [
    "# GeoPython"
   ]
  },
  {
   "cell_type": "markdown",
   "metadata": {
    "id": "z9mxqx8bAWuK"
   },
   "source": [
    "## Learning objectives\n",
    "- Read / write spatial data from/to different file formats\n",
    "- Deal with different projections\n",
    "- Do different geometric operations and geocoding\n",
    "- Reclassify your data based on different criteria\n",
    "- Do spatial queries\n",
    "- Do simple spatial analyses\n",
    "- Visualize data and create (interactive) maps\n",
    "\n",
    "## List of data analysis & visualization:\n",
    "- Numpy –> Fundamental package for scientific computing with Python\n",
    "\n",
    "- Pandas –> High-performance, easy-to-use data structures and data analysis tools\n",
    "\n",
    "- Scipy –> A collection of numerical algorithms and domain-specific toolboxes, including signal processing, optimization and statistics\n",
    "\n",
    "- Matplotlib –> Basic plotting library for Python\n",
    "\n",
    "- Bokeh –> Interactive visualizations for the web (also maps)\n",
    "\n",
    "- Plotly –> Interactive visualizations (also maps) for the web (commercial - free for educational purposes)\n",
    "\n",
    "## GIS:\n",
    "- GDAL –> Fundamental package for processing vector and raster data formats (many modules below depend on this). Used for raster processing.\n",
    "\n",
    "- Geopandas –> Working with geospatial data in Python made easier, combines the capabilities of pandas and shapely.\n",
    "\n",
    "- Shapely –> Python package for manipulation and analysis of planar geometric objects (based on widely deployed GEOS).\n",
    "\n",
    "- Fiona –> Reading and writing spatial data (alternative for geopandas).\n",
    "\n",
    "- Pyproj –> Performs cartographic transformations and geodetic computations (based on PROJ.4).\n",
    "\n",
    "- Pysal –> Library of spatial analysis functions written in Python.\n",
    "\n",
    "- Geopy –> Geocoding library: coordinates to address <-> address to coordinates.\n",
    "\n",
    "- GeoViews –> Interactive Maps for the web.\n",
    "\n",
    "- Networkx –> Network analysis and routing in Python (e.g. Dijkstra and A* -algorithms), see this post.\n",
    "\n",
    "- Cartopy –> Make drawing maps for data analysis and visualisation as easy as possible.\n",
    "\n",
    "- Scipy.spatial –> Spatial algorithms and data structures.\n",
    "\n",
    "- Rtree –> Spatial indexing for Python for quick spatial lookups.\n",
    "\n",
    "- Rasterio –> Clean and fast and geospatial raster I/O for Python.\n",
    "\n",
    "- RSGISLib –> Remote Sensing and GIS Software Library for Python."
   ]
  },
  {
   "cell_type": "markdown",
   "metadata": {
    "id": "HCx3k_cCjrPm"
   },
   "source": [
    "\n",
    "\n",
    "---\n",
    "\n",
    "\n",
    "# Part 1"
   ]
  },
  {
   "cell_type": "markdown",
   "metadata": {
    "id": "SKtxOo2hECHO"
   },
   "source": [
    "## Overview of Geometric objects and Shapely-module\n",
    "- Point -object represents a single point in space. Points can be either two-dimensional (x, y) or three dimensional (x, y, z).\n",
    "\n",
    "- LineString -object (i.e. a line) represents a sequence of points joined together to form a line. Hence, a line consist of a list of at least two coordinate tuples\n",
    "\n",
    "- Polygon -object represents a filled area that consists of a list of at least three coordinate tuples that forms the outerior ring and a (possible) list of hole polygons.\n",
    "\n",
    "- MultiPoint -object represents a collection of points and consists of a list of coordinate-tuples\n",
    "\n",
    "- MultiLineString -object represents a collection of lines and consists of a list of line-like sequences\n",
    "\n",
    "- MultiPolygon -object represents a collection of polygons that consists of a list of polygon-like sequences that construct from exterior ring and (possible) hole list tuples"
   ]
  },
  {
   "cell_type": "code",
   "execution_count": 1,
   "metadata": {
    "executionInfo": {
     "elapsed": 288,
     "status": "ok",
     "timestamp": 1748754942115,
     "user": {
      "displayName": "Abdullah Wahdain",
      "userId": "04503149618096469309"
     },
     "user_tz": -180
    },
    "id": "vqeWLiq1CB3X"
   },
   "outputs": [],
   "source": [
    "from shapely.geometry import Point, LineString, Polygon"
   ]
  },
  {
   "cell_type": "markdown",
   "metadata": {
    "id": "OO5JG1zTJbg1"
   },
   "source": [
    "### Points"
   ]
  },
  {
   "cell_type": "code",
   "execution_count": 2,
   "metadata": {
    "executionInfo": {
     "elapsed": 2,
     "status": "ok",
     "timestamp": 1748754946441,
     "user": {
      "displayName": "Abdullah Wahdain",
      "userId": "04503149618096469309"
     },
     "user_tz": -180
    },
    "id": "yzAVitpXF0VF"
   },
   "outputs": [],
   "source": [
    "# Create point\n",
    "point1=Point(2.2, 4.2)\n",
    "point2=Point(7.2, -25.1)\n",
    "point3=Point(9.26, -2.456)\n",
    "point3D=Point(9.26, -2.456, 0.57)"
   ]
  },
  {
   "cell_type": "code",
   "execution_count": 3,
   "metadata": {
    "colab": {
     "base_uri": "https://localhost:8080/"
    },
    "executionInfo": {
     "elapsed": 127,
     "status": "ok",
     "timestamp": 1748754961390,
     "user": {
      "displayName": "Abdullah Wahdain",
      "userId": "04503149618096469309"
     },
     "user_tz": -180
    },
    "id": "SEZ1QUEeGHvo",
    "outputId": "6988f966-80c3-4cd8-9716-8c4a6659b466"
   },
   "outputs": [
    {
     "data": {
      "text/plain": [
       "shapely.geometry.point.Point"
      ]
     },
     "execution_count": 3,
     "metadata": {},
     "output_type": "execute_result"
    }
   ],
   "source": [
    "# Get the type\n",
    "type(point1)\n"
   ]
  },
  {
   "cell_type": "code",
   "execution_count": 4,
   "metadata": {
    "colab": {
     "base_uri": "https://localhost:8080/"
    },
    "executionInfo": {
     "elapsed": 8,
     "status": "ok",
     "timestamp": 1748754962678,
     "user": {
      "displayName": "Abdullah Wahdain",
      "userId": "04503149618096469309"
     },
     "user_tz": -180
    },
    "id": "ED1rFzbAGKBI",
    "outputId": "13a6d9e4-ea41-45fc-c7d6-47b1dc5c2559"
   },
   "outputs": [
    {
     "data": {
      "text/plain": [
       "(array('d', [9.26]), array('d', [-2.456]))"
      ]
     },
     "execution_count": 4,
     "metadata": {},
     "output_type": "execute_result"
    }
   ],
   "source": [
    "# Get the coordinates\n",
    "point3D.coords.xy"
   ]
  },
  {
   "cell_type": "code",
   "execution_count": 5,
   "metadata": {
    "colab": {
     "base_uri": "https://localhost:8080/"
    },
    "executionInfo": {
     "elapsed": 5,
     "status": "ok",
     "timestamp": 1748754965286,
     "user": {
      "displayName": "Abdullah Wahdain",
      "userId": "04503149618096469309"
     },
     "user_tz": -180
    },
    "id": "A3m0OSHoHreB",
    "outputId": "28dc61db-28d2-487a-d85a-9ea720b563df"
   },
   "outputs": [
    {
     "data": {
      "text/plain": [
       "(9.26, -2.456, 0.57)"
      ]
     },
     "execution_count": 5,
     "metadata": {},
     "output_type": "execute_result"
    }
   ],
   "source": [
    "# What is inside?\n",
    "point3D.x, point3D.y, point3D.z"
   ]
  },
  {
   "cell_type": "markdown",
   "metadata": {
    "id": "n2Xc5dxMJhd1"
   },
   "source": [
    "## LineString"
   ]
  },
  {
   "cell_type": "code",
   "execution_count": 6,
   "metadata": {
    "executionInfo": {
     "elapsed": 44,
     "status": "ok",
     "timestamp": 1748755040363,
     "user": {
      "displayName": "Abdullah Wahdain",
      "userId": "04503149618096469309"
     },
     "user_tz": -180
    },
    "id": "PEJQwIuGI4wZ"
   },
   "outputs": [],
   "source": [
    "# Create a LineString from our Point objects\n",
    "line = LineString([point1, point2, point3])\n",
    "\n",
    "# It is also possible to use coordinate tuples having the same outcome\n",
    "line2 = LineString([(2.2, 4.2), (7.2, -25.1), (9.26, -2.456)])"
   ]
  },
  {
   "cell_type": "code",
   "execution_count": 17,
   "metadata": {},
   "outputs": [
    {
     "data": {
      "image/svg+xml": [
       "<svg xmlns=\"http://www.w3.org/2000/svg\" xmlns:xlink=\"http://www.w3.org/1999/xlink\" width=\"100.0\" height=\"100.0\" viewBox=\"1.028 -26.272000000000002 9.404 31.644000000000002\" preserveAspectRatio=\"xMinYMin meet\"><g transform=\"matrix(1,0,0,-1,0,-20.900000000000002)\"><polyline fill=\"none\" stroke=\"#66cc99\" stroke-width=\"0.63288\" points=\"2.2,4.2 7.2,-25.1 9.26,-2.456\" opacity=\"0.8\" /></g></svg>"
      ],
      "text/plain": [
       "<LINESTRING (2.2 4.2, 7.2 -25.1, 9.26 -2.46)>"
      ]
     },
     "execution_count": 17,
     "metadata": {},
     "output_type": "execute_result"
    }
   ],
   "source": [
    "line2"
   ]
  },
  {
   "cell_type": "code",
   "execution_count": 7,
   "metadata": {
    "colab": {
     "base_uri": "https://localhost:8080/"
    },
    "executionInfo": {
     "elapsed": 103,
     "status": "ok",
     "timestamp": 1748755044116,
     "user": {
      "displayName": "Abdullah Wahdain",
      "userId": "04503149618096469309"
     },
     "user_tz": -180
    },
    "id": "1UtVHg3UJoNB",
    "outputId": "b956f726-69d1-4030-d9d4-c3023d759d92"
   },
   "outputs": [
    {
     "name": "stdout",
     "output_type": "stream",
     "text": [
      "LINESTRING (2.2 4.2, 7.2 -25.1, 9.26 -2.456)\n"
     ]
    }
   ],
   "source": [
    "print(line2)"
   ]
  },
  {
   "cell_type": "code",
   "execution_count": 8,
   "metadata": {
    "colab": {
     "base_uri": "https://localhost:8080/"
    },
    "executionInfo": {
     "elapsed": 7,
     "status": "ok",
     "timestamp": 1748755048104,
     "user": {
      "displayName": "Abdullah Wahdain",
      "userId": "04503149618096469309"
     },
     "user_tz": -180
    },
    "id": "y6BK-Q1RJsiJ",
    "outputId": "f2812c31-21b7-420f-b9fd-95fb08aed1fb"
   },
   "outputs": [
    {
     "data": {
      "text/plain": [
       "shapely.geometry.linestring.LineString"
      ]
     },
     "execution_count": 8,
     "metadata": {},
     "output_type": "execute_result"
    }
   ],
   "source": [
    "# Get the type\n",
    "type(line)"
   ]
  },
  {
   "cell_type": "code",
   "execution_count": 9,
   "metadata": {
    "colab": {
     "base_uri": "https://localhost:8080/"
    },
    "executionInfo": {
     "elapsed": 6,
     "status": "ok",
     "timestamp": 1748755051998,
     "user": {
      "displayName": "Abdullah Wahdain",
      "userId": "04503149618096469309"
     },
     "user_tz": -180
    },
    "id": "EVb_NHYZJ7n7",
    "outputId": "1dc2a27d-8574-4f33-d890-b4e86da80c38"
   },
   "outputs": [
    {
     "data": {
      "text/plain": [
       "(array('d', [2.2, 7.2, 9.26]), array('d', [4.2, -25.1, -2.456]))"
      ]
     },
     "execution_count": 9,
     "metadata": {},
     "output_type": "execute_result"
    }
   ],
   "source": [
    "# Get the coordinates\n",
    "line.coords.xy"
   ]
  },
  {
   "cell_type": "code",
   "execution_count": 10,
   "metadata": {
    "colab": {
     "base_uri": "https://localhost:8080/"
    },
    "executionInfo": {
     "elapsed": 6,
     "status": "ok",
     "timestamp": 1748755155454,
     "user": {
      "displayName": "Abdullah Wahdain",
      "userId": "04503149618096469309"
     },
     "user_tz": -180
    },
    "id": "GXqLZ98SJ7xC",
    "outputId": "4890e79b-6db2-473d-8a86-7187e9088731"
   },
   "outputs": [
    {
     "data": {
      "text/plain": [
       "(array('d', [2.2, 7.2, 9.26]), array('d', [4.2, -25.1, -2.456]))"
      ]
     },
     "execution_count": 10,
     "metadata": {},
     "output_type": "execute_result"
    }
   ],
   "source": [
    "# What is inside?\n",
    "line.xy"
   ]
  },
  {
   "cell_type": "code",
   "execution_count": 11,
   "metadata": {
    "colab": {
     "base_uri": "https://localhost:8080/"
    },
    "executionInfo": {
     "elapsed": 16,
     "status": "ok",
     "timestamp": 1748755163907,
     "user": {
      "displayName": "Abdullah Wahdain",
      "userId": "04503149618096469309"
     },
     "user_tz": -180
    },
    "id": "LJ_e52i1MfvJ",
    "outputId": "ea1c6b55-5b8f-46ae-e3f0-2b387fe5dbc5"
   },
   "outputs": [
    {
     "data": {
      "text/plain": [
       "(array('d', [2.2, 7.2, 9.26]), array('d', [4.2, -25.1, -2.456]))"
      ]
     },
     "execution_count": 11,
     "metadata": {},
     "output_type": "execute_result"
    }
   ],
   "source": [
    "# Extract x corrdinates\n",
    "line.xy[0], line.xy[1]"
   ]
  },
  {
   "cell_type": "code",
   "execution_count": 12,
   "metadata": {
    "colab": {
     "base_uri": "https://localhost:8080/"
    },
    "executionInfo": {
     "elapsed": 7,
     "status": "ok",
     "timestamp": 1748755168872,
     "user": {
      "displayName": "Abdullah Wahdain",
      "userId": "04503149618096469309"
     },
     "user_tz": -180
    },
    "id": "GeI-dvwkP7CK",
    "outputId": "ceadaf7d-6691-45e9-8d31-4cb3035a8422"
   },
   "outputs": [
    {
     "data": {
      "text/plain": [
       "52.46106912939557"
      ]
     },
     "execution_count": 12,
     "metadata": {},
     "output_type": "execute_result"
    }
   ],
   "source": [
    "# Get the length\n",
    "line.length"
   ]
  },
  {
   "cell_type": "code",
   "execution_count": 13,
   "metadata": {
    "colab": {
     "base_uri": "https://localhost:8080/"
    },
    "executionInfo": {
     "elapsed": 20,
     "status": "ok",
     "timestamp": 1748755175395,
     "user": {
      "displayName": "Abdullah Wahdain",
      "userId": "04503149618096469309"
     },
     "user_tz": -180
    },
    "id": "p5nw8Ky3QS47",
    "outputId": "c012c096-8e5f-471e-dfe0-b62d15a4f7b7"
   },
   "outputs": [
    {
     "name": "stdout",
     "output_type": "stream",
     "text": [
      "Centroid of our line:  POINT (6.229961354035622 -11.89241115757239)\n"
     ]
    }
   ],
   "source": [
    "# Get the center\n",
    "c_line=line.centroid\n",
    "print('Centroid of our line: ', c_line)"
   ]
  },
  {
   "cell_type": "markdown",
   "metadata": {
    "id": "TWVrFZjFR9CP"
   },
   "source": [
    "## Polygon"
   ]
  },
  {
   "cell_type": "code",
   "execution_count": 18,
   "metadata": {
    "executionInfo": {
     "elapsed": 9,
     "status": "ok",
     "timestamp": 1748755537961,
     "user": {
      "displayName": "Abdullah Wahdain",
      "userId": "04503149618096469309"
     },
     "user_tz": -180
    },
    "id": "cm3OZsmQQruy"
   },
   "outputs": [],
   "source": [
    "# Create a Ploygon from corrdinates - Polygon([[p.x, p.y] for p in [point1, point2, point3]])\n",
    "poly=Polygon([(-5, -5), (5, -5), (5, 5),(-5, 5)])"
   ]
  },
  {
   "cell_type": "code",
   "execution_count": 19,
   "metadata": {
    "colab": {
     "base_uri": "https://localhost:8080/"
    },
    "executionInfo": {
     "elapsed": 128,
     "status": "ok",
     "timestamp": 1748755545872,
     "user": {
      "displayName": "Abdullah Wahdain",
      "userId": "04503149618096469309"
     },
     "user_tz": -180
    },
    "id": "wrT_xTABSMma",
    "outputId": "a9fd830e-61d8-4fc3-cb4c-5296f7c18710"
   },
   "outputs": [
    {
     "name": "stdout",
     "output_type": "stream",
     "text": [
      "POLYGON ((-5 -5, 5 -5, 5 5, -5 5, -5 -5))\n"
     ]
    }
   ],
   "source": [
    "print(poly)"
   ]
  },
  {
   "cell_type": "code",
   "execution_count": 20,
   "metadata": {
    "colab": {
     "base_uri": "https://localhost:8080/",
     "height": 121
    },
    "executionInfo": {
     "elapsed": 126,
     "status": "ok",
     "timestamp": 1748755645203,
     "user": {
      "displayName": "Abdullah Wahdain",
      "userId": "04503149618096469309"
     },
     "user_tz": -180
    },
    "id": "7-GYgs-RSOJq",
    "outputId": "0c0ecb31-1d55-4fec-fe9e-6dcc8e4acac7"
   },
   "outputs": [
    {
     "data": {
      "image/svg+xml": [
       "<svg xmlns=\"http://www.w3.org/2000/svg\" xmlns:xlink=\"http://www.w3.org/1999/xlink\" width=\"100.0\" height=\"100.0\" viewBox=\"-5.4 -5.4 10.8 10.8\" preserveAspectRatio=\"xMinYMin meet\"><g transform=\"matrix(1,0,0,-1,0,0.0)\"><path fill-rule=\"evenodd\" fill=\"#66cc99\" stroke=\"#555555\" stroke-width=\"0.21600000000000003\" opacity=\"0.6\" d=\"M -5.0,-5.0 L 5.0,-5.0 L 5.0,5.0 L -5.0,5.0 L -5.0,-5.0 z\" /></g></svg>"
      ],
      "text/plain": [
       "<POLYGON ((-5 -5, 5 -5, 5 5, -5 5, -5 -5))>"
      ]
     },
     "execution_count": 20,
     "metadata": {},
     "output_type": "execute_result"
    }
   ],
   "source": [
    "poly"
   ]
  },
  {
   "cell_type": "code",
   "execution_count": 21,
   "metadata": {
    "colab": {
     "base_uri": "https://localhost:8080/"
    },
    "executionInfo": {
     "elapsed": 19,
     "status": "ok",
     "timestamp": 1748755646818,
     "user": {
      "displayName": "Abdullah Wahdain",
      "userId": "04503149618096469309"
     },
     "user_tz": -180
    },
    "id": "HnToP3deTJqT",
    "outputId": "e4303e76-00ce-4856-b2aa-d1a9e8d8f4b9"
   },
   "outputs": [
    {
     "data": {
      "text/plain": [
       "shapely.geometry.polygon.Polygon"
      ]
     },
     "execution_count": 21,
     "metadata": {},
     "output_type": "execute_result"
    }
   ],
   "source": [
    "# Get the type\n",
    "type(poly)"
   ]
  },
  {
   "cell_type": "code",
   "execution_count": 22,
   "metadata": {
    "colab": {
     "base_uri": "https://localhost:8080/"
    },
    "executionInfo": {
     "elapsed": 8,
     "status": "ok",
     "timestamp": 1748755679814,
     "user": {
      "displayName": "Abdullah Wahdain",
      "userId": "04503149618096469309"
     },
     "user_tz": -180
    },
    "id": "OGsXRPuR9IbX",
    "outputId": "0bc880f5-4733-4491-ca1a-60170f531510"
   },
   "outputs": [
    {
     "data": {
      "text/plain": [
       "(100.0, 40.0, <POINT (-0 -0)>)"
      ]
     },
     "execution_count": 22,
     "metadata": {},
     "output_type": "execute_result"
    }
   ],
   "source": [
    "poly.area, poly.length, poly.centroid"
   ]
  },
  {
   "cell_type": "code",
   "execution_count": 23,
   "metadata": {
    "colab": {
     "base_uri": "https://localhost:8080/",
     "height": 35
    },
    "executionInfo": {
     "elapsed": 24,
     "status": "ok",
     "timestamp": 1748755562303,
     "user": {
      "displayName": "Abdullah Wahdain",
      "userId": "04503149618096469309"
     },
     "user_tz": -180
    },
    "id": "n9D5SIqsTsVj",
    "outputId": "179ee64e-ab4a-48ab-d51f-501e78d53ab4"
   },
   "outputs": [
    {
     "data": {
      "text/plain": [
       "'Polygon'"
      ]
     },
     "execution_count": 23,
     "metadata": {},
     "output_type": "execute_result"
    }
   ],
   "source": [
    "# Geometry type can be accessed as a String\n",
    "poly_type = poly.geom_type\n",
    "poly_type"
   ]
  },
  {
   "cell_type": "code",
   "execution_count": 26,
   "metadata": {
    "executionInfo": {
     "elapsed": 44,
     "status": "ok",
     "timestamp": 1748756757318,
     "user": {
      "displayName": "Abdullah Wahdain",
      "userId": "04503149618096469309"
     },
     "user_tz": -180
    },
    "id": "EXn-AaJHTzPj"
   },
   "outputs": [
    {
     "data": {
      "image/svg+xml": [
       "<svg xmlns=\"http://www.w3.org/2000/svg\" xmlns:xlink=\"http://www.w3.org/1999/xlink\" width=\"300\" height=\"208.8\" viewBox=\"-194.4 -104.4 388.8 208.8\" preserveAspectRatio=\"xMinYMin meet\"><g transform=\"matrix(1,0,0,-1,0,0.0)\"><path fill-rule=\"evenodd\" fill=\"#66cc99\" stroke=\"#555555\" stroke-width=\"2.592\" opacity=\"0.6\" d=\"M -180.0,90.0 L -180.0,-90.0 L 180.0,-90.0 L 180.0,90.0 L -180.0,90.0 z M -100.0,80.0 L -100.0,-80.0 L 100.0,-80.0 L 100.0,80.0 L -100.0,80.0 z\" /></g></svg>"
      ],
      "text/plain": [
       "<POLYGON ((-180 90, -180 -90, 180 -90, 180 90, -180 90), (-100 80, -100 -80,...>"
      ]
     },
     "execution_count": 26,
     "metadata": {},
     "output_type": "execute_result"
    }
   ],
   "source": [
    "# Create a Polygon with a hole inside\n",
    "world_exterior = [(-180, 90), (-180, -90), (180, -90), (180, 90)]\n",
    "hole = [[(-100, 80), (-100, -80), (100, -80), (100, 80)]]\n",
    "\n",
    "# World without a hole\n",
    "world = Polygon(shell=world_exterior)\n",
    "\n",
    "# NWorld with a hole\n",
    "world_has_a_hole = Polygon(shell=world_exterior, holes=hole)\n",
    "\n",
    "world_has_a_hole"
   ]
  },
  {
   "cell_type": "code",
   "execution_count": 28,
   "metadata": {
    "colab": {
     "base_uri": "https://localhost:8080/"
    },
    "executionInfo": {
     "elapsed": 235,
     "status": "ok",
     "timestamp": 1748756769535,
     "user": {
      "displayName": "Abdullah Wahdain",
      "userId": "04503149618096469309"
     },
     "user_tz": -180
    },
    "id": "ECo29pLUX5a8",
    "outputId": "a366ae4e-78a7-4e05-c0a0-d87ec3beae22"
   },
   "outputs": [
    {
     "name": "stdout",
     "output_type": "stream",
     "text": [
      "POINT (-0 -0)\n",
      "64800.0\n",
      "(-180.0, -90.0, 180.0, 90.0)\n",
      "LINEARRING (-180 90, -180 -90, 180 -90, 180 90, -180 90)\n",
      "1080.0\n"
     ]
    },
    {
     "data": {
      "image/svg+xml": [
       "<svg xmlns=\"http://www.w3.org/2000/svg\" xmlns:xlink=\"http://www.w3.org/1999/xlink\" width=\"300\" height=\"208.8\" viewBox=\"-194.4 -104.4 388.8 208.8\" preserveAspectRatio=\"xMinYMin meet\"><g transform=\"matrix(1,0,0,-1,0,0.0)\"><path fill-rule=\"evenodd\" fill=\"#66cc99\" stroke=\"#555555\" stroke-width=\"2.592\" opacity=\"0.6\" d=\"M -180.0,90.0 L -180.0,-90.0 L 180.0,-90.0 L 180.0,90.0 L -180.0,90.0 z\" /></g></svg>"
      ],
      "text/plain": [
       "<POLYGON ((-180 90, -180 -90, 180 -90, 180 90, -180 90))>"
      ]
     },
     "execution_count": 28,
     "metadata": {},
     "output_type": "execute_result"
    }
   ],
   "source": [
    "# Polygon attributes and functions\n",
    "world_centroid=world.centroid\n",
    "world_area=world.area\n",
    "world_bbox=world.bounds\n",
    "world_ext=world.exterior\n",
    "world_length=world.length\n",
    "print(world_centroid)\n",
    "print(world_area)\n",
    "print(world_bbox)\n",
    "print(world_ext)\n",
    "print(world_length)\n",
    "world"
   ]
  },
  {
   "cell_type": "markdown",
   "metadata": {
    "id": "vnPVunzTeFu3"
   },
   "source": [
    "## Geometry collections\n",
    "- MultiPoint-object\n",
    "- MultiLineString-object\n",
    "- MultiPolygon-object"
   ]
  },
  {
   "cell_type": "code",
   "execution_count": 29,
   "metadata": {
    "executionInfo": {
     "elapsed": 2,
     "status": "ok",
     "timestamp": 1748756837711,
     "user": {
      "displayName": "Abdullah Wahdain",
      "userId": "04503149618096469309"
     },
     "user_tz": -180
    },
    "id": "ApJBQDCFYNil"
   },
   "outputs": [],
   "source": [
    "from shapely.geometry import MultiPoint, MultiLineString, MultiPolygon, box"
   ]
  },
  {
   "cell_type": "code",
   "execution_count": 30,
   "metadata": {
    "executionInfo": {
     "elapsed": 1,
     "status": "ok",
     "timestamp": 1748756837714,
     "user": {
      "displayName": "Abdullah Wahdain",
      "userId": "04503149618096469309"
     },
     "user_tz": -180
    },
    "id": "BTG9i1OLfEad"
   },
   "outputs": [],
   "source": [
    "# Create points\n",
    "min_x, min_y = 0, -90\n",
    "max_x, max_y = 180, 90\n",
    "\n",
    "# Create polygon 1\n",
    "west_exterior = [(-180, 90), (-180, -90), (0, -90), (0, 90)]\n",
    "west_hole = [[(-170, 80), (-170, -80), (-10, -80), (-10, 80)]]\n",
    "west_poly = Polygon(shell=west_exterior, holes=west_hole)\n",
    "\n",
    "# Create ploygon 2 using box() function\n",
    "east_ploy_box = box(minx=min_x, miny=min_y, maxx=max_x, maxy=max_y)\n",
    "\n",
    "# crate the MultiPolygen\n",
    "multi_poly = MultiPolygon([west_poly, east_ploy_box])"
   ]
  },
  {
   "cell_type": "code",
   "execution_count": 33,
   "metadata": {
    "colab": {
     "base_uri": "https://localhost:8080/"
    },
    "executionInfo": {
     "elapsed": 4,
     "status": "ok",
     "timestamp": 1748756837719,
     "user": {
      "displayName": "Abdullah Wahdain",
      "userId": "04503149618096469309"
     },
     "user_tz": -180
    },
    "id": "omdTgGdaiC_e",
    "outputId": "5a242714-913e-4255-dbc0-c5e61f0fe1c6"
   },
   "outputs": [
    {
     "name": "stdout",
     "output_type": "stream",
     "text": [
      "'MultiPoly:  MULTIPOLYGON (((-180 90, -180 -90, 0 -90, 0 90, -180 90), (-170 80, -170 -80, -10 -80, -10 80, -170 80)), ((180 -90, 180 90, 0 90, 0 -90, 180 -90)))\n",
      "MultiPolygon\n",
      "(-180.0, -90.0, 180.0, 90.0)\n",
      "POINT (58.77551020408163 -0)\n",
      "2080.0\n",
      "39200.0\n",
      "False\n"
     ]
    },
    {
     "data": {
      "image/svg+xml": [
       "<svg xmlns=\"http://www.w3.org/2000/svg\" xmlns:xlink=\"http://www.w3.org/1999/xlink\" width=\"300\" height=\"208.8\" viewBox=\"-194.4 -104.4 388.8 208.8\" preserveAspectRatio=\"xMinYMin meet\"><g transform=\"matrix(1,0,0,-1,0,0.0)\"><g><path fill-rule=\"evenodd\" fill=\"#ff3333\" stroke=\"#555555\" stroke-width=\"2.592\" opacity=\"0.6\" d=\"M -180.0,90.0 L -180.0,-90.0 L 0.0,-90.0 L 0.0,90.0 L -180.0,90.0 z M -170.0,80.0 L -170.0,-80.0 L -10.0,-80.0 L -10.0,80.0 L -170.0,80.0 z\" /><path fill-rule=\"evenodd\" fill=\"#ff3333\" stroke=\"#555555\" stroke-width=\"2.592\" opacity=\"0.6\" d=\"M 180.0,-90.0 L 180.0,90.0 L 0.0,90.0 L 0.0,-90.0 L 180.0,-90.0 z\" /></g></g></svg>"
      ],
      "text/plain": [
       "<MULTIPOLYGON (((-180 90, -180 -90, 0 -90, 0 90, -180 90), (-170 80, -170 -8...>"
      ]
     },
     "execution_count": 33,
     "metadata": {},
     "output_type": "execute_result"
    }
   ],
   "source": [
    "print(\"'MultiPoly: \", multi_poly)\n",
    "print(multi_poly.geom_type)\n",
    "print(multi_poly.bounds)\n",
    "print(multi_poly.centroid)\n",
    "print(multi_poly.length)\n",
    "print(multi_poly.area)\n",
    "print(multi_poly.is_valid)\n",
    "multi_poly"
   ]
  },
  {
   "cell_type": "markdown",
   "metadata": {
    "id": "l-DHy_7YktYf"
   },
   "source": [
    "\n",
    "\n",
    "---\n",
    "\n",
    "\n",
    "# Part 2\n",
    "\n",
    "### Geopandas-modules\n",
    "Read and write spatial data in Python using Geopandas-module and some useful data management functionalities using either Geopandas or Pandas."
   ]
  },
  {
   "cell_type": "code",
   "execution_count": 34,
   "metadata": {
    "executionInfo": {
     "elapsed": 511,
     "status": "ok",
     "timestamp": 1748756862143,
     "user": {
      "displayName": "Abdullah Wahdain",
      "userId": "04503149618096469309"
     },
     "user_tz": -180
    },
    "id": "IcryJEyZiS5F"
   },
   "outputs": [],
   "source": [
    "import geopandas as gpd"
   ]
  },
  {
   "cell_type": "code",
   "execution_count": 37,
   "metadata": {
    "executionInfo": {
     "elapsed": 2171,
     "status": "ok",
     "timestamp": 1748756976153,
     "user": {
      "displayName": "Abdullah Wahdain",
      "userId": "04503149618096469309"
     },
     "user_tz": -180
    },
    "id": "0UrOX0tXm1of"
   },
   "outputs": [],
   "source": [
    "data=gpd.read_file(\"C:\\\\Users\\\\abdul\\\\Downloads\\\\Data (1)\\\\Data\\\\DAMSELFISH_distributions.shp\")"
   ]
  },
  {
   "cell_type": "code",
   "execution_count": 38,
   "metadata": {
    "colab": {
     "base_uri": "https://localhost:8080/",
     "height": 187
    },
    "executionInfo": {
     "elapsed": 76,
     "status": "ok",
     "timestamp": 1748756979885,
     "user": {
      "displayName": "Abdullah Wahdain",
      "userId": "04503149618096469309"
     },
     "user_tz": -180
    },
    "id": "-OXeAQyio8Bo",
    "outputId": "e86fe15e-71ff-4977-9f51-0814bf652db9"
   },
   "outputs": [
    {
     "data": {
      "text/plain": [
       "geopandas.geodataframe.GeoDataFrame"
      ]
     },
     "execution_count": 38,
     "metadata": {},
     "output_type": "execute_result"
    }
   ],
   "source": [
    "# Data type\n",
    "type(data)"
   ]
  },
  {
   "cell_type": "code",
   "execution_count": 40,
   "metadata": {
    "colab": {
     "base_uri": "https://localhost:8080/",
     "height": 603
    },
    "executionInfo": {
     "elapsed": 232,
     "status": "ok",
     "timestamp": 1748756987652,
     "user": {
      "displayName": "Abdullah Wahdain",
      "userId": "04503149618096469309"
     },
     "user_tz": -180
    },
    "id": "a4i3nW2EqpBg",
    "outputId": "4b451a1b-29e3-47c0-ae14-7a08d7abc19c"
   },
   "outputs": [
    {
     "data": {
      "text/html": [
       "<div>\n",
       "<style scoped>\n",
       "    .dataframe tbody tr th:only-of-type {\n",
       "        vertical-align: middle;\n",
       "    }\n",
       "\n",
       "    .dataframe tbody tr th {\n",
       "        vertical-align: top;\n",
       "    }\n",
       "\n",
       "    .dataframe thead th {\n",
       "        text-align: right;\n",
       "    }\n",
       "</style>\n",
       "<table border=\"1\" class=\"dataframe\">\n",
       "  <thead>\n",
       "    <tr style=\"text-align: right;\">\n",
       "      <th></th>\n",
       "      <th>ID_NO</th>\n",
       "      <th>BINOMIAL</th>\n",
       "      <th>ORIGIN</th>\n",
       "      <th>COMPILER</th>\n",
       "      <th>YEAR</th>\n",
       "      <th>CITATION</th>\n",
       "      <th>SOURCE</th>\n",
       "      <th>DIST_COMM</th>\n",
       "      <th>ISLAND</th>\n",
       "      <th>SUBSPECIES</th>\n",
       "      <th>...</th>\n",
       "      <th>RL_UPDATE</th>\n",
       "      <th>KINGDOM_NA</th>\n",
       "      <th>PHYLUM_NAM</th>\n",
       "      <th>CLASS_NAME</th>\n",
       "      <th>ORDER_NAME</th>\n",
       "      <th>FAMILY_NAM</th>\n",
       "      <th>GENUS_NAME</th>\n",
       "      <th>SPECIES_NA</th>\n",
       "      <th>CATEGORY</th>\n",
       "      <th>geometry</th>\n",
       "    </tr>\n",
       "  </thead>\n",
       "  <tbody>\n",
       "    <tr>\n",
       "      <th>0</th>\n",
       "      <td>183963.0</td>\n",
       "      <td>Stegastes leucorus</td>\n",
       "      <td>1</td>\n",
       "      <td>IUCN</td>\n",
       "      <td>2010</td>\n",
       "      <td>International Union for Conservation of Nature...</td>\n",
       "      <td>None</td>\n",
       "      <td>None</td>\n",
       "      <td>None</td>\n",
       "      <td>None</td>\n",
       "      <td>...</td>\n",
       "      <td>2012.1</td>\n",
       "      <td>ANIMALIA</td>\n",
       "      <td>CHORDATA</td>\n",
       "      <td>ACTINOPTERYGII</td>\n",
       "      <td>PERCIFORMES</td>\n",
       "      <td>POMACENTRIDAE</td>\n",
       "      <td>Stegastes</td>\n",
       "      <td>leucorus</td>\n",
       "      <td>VU</td>\n",
       "      <td>POLYGON ((-115.64 29.714, -115.62 29.696, -115...</td>\n",
       "    </tr>\n",
       "    <tr>\n",
       "      <th>1</th>\n",
       "      <td>183963.0</td>\n",
       "      <td>Stegastes leucorus</td>\n",
       "      <td>1</td>\n",
       "      <td>IUCN</td>\n",
       "      <td>2010</td>\n",
       "      <td>International Union for Conservation of Nature...</td>\n",
       "      <td>None</td>\n",
       "      <td>None</td>\n",
       "      <td>None</td>\n",
       "      <td>None</td>\n",
       "      <td>...</td>\n",
       "      <td>2012.1</td>\n",
       "      <td>ANIMALIA</td>\n",
       "      <td>CHORDATA</td>\n",
       "      <td>ACTINOPTERYGII</td>\n",
       "      <td>PERCIFORMES</td>\n",
       "      <td>POMACENTRIDAE</td>\n",
       "      <td>Stegastes</td>\n",
       "      <td>leucorus</td>\n",
       "      <td>VU</td>\n",
       "      <td>POLYGON ((-105.59 21.893, -105.56 21.851, -105...</td>\n",
       "    </tr>\n",
       "    <tr>\n",
       "      <th>2</th>\n",
       "      <td>183963.0</td>\n",
       "      <td>Stegastes leucorus</td>\n",
       "      <td>1</td>\n",
       "      <td>IUCN</td>\n",
       "      <td>2010</td>\n",
       "      <td>International Union for Conservation of Nature...</td>\n",
       "      <td>None</td>\n",
       "      <td>None</td>\n",
       "      <td>None</td>\n",
       "      <td>None</td>\n",
       "      <td>...</td>\n",
       "      <td>2012.1</td>\n",
       "      <td>ANIMALIA</td>\n",
       "      <td>CHORDATA</td>\n",
       "      <td>ACTINOPTERYGII</td>\n",
       "      <td>PERCIFORMES</td>\n",
       "      <td>POMACENTRIDAE</td>\n",
       "      <td>Stegastes</td>\n",
       "      <td>leucorus</td>\n",
       "      <td>VU</td>\n",
       "      <td>POLYGON ((-111.16 19.015, -111.16 18.999, -111...</td>\n",
       "    </tr>\n",
       "  </tbody>\n",
       "</table>\n",
       "<p>3 rows × 24 columns</p>\n",
       "</div>"
      ],
      "text/plain": [
       "      ID_NO            BINOMIAL  ORIGIN COMPILER  YEAR  \\\n",
       "0  183963.0  Stegastes leucorus       1     IUCN  2010   \n",
       "1  183963.0  Stegastes leucorus       1     IUCN  2010   \n",
       "2  183963.0  Stegastes leucorus       1     IUCN  2010   \n",
       "\n",
       "                                            CITATION SOURCE DIST_COMM ISLAND  \\\n",
       "0  International Union for Conservation of Nature...   None      None   None   \n",
       "1  International Union for Conservation of Nature...   None      None   None   \n",
       "2  International Union for Conservation of Nature...   None      None   None   \n",
       "\n",
       "  SUBSPECIES  ... RL_UPDATE KINGDOM_NA  PHYLUM_NAM      CLASS_NAME  \\\n",
       "0       None  ...    2012.1   ANIMALIA    CHORDATA  ACTINOPTERYGII   \n",
       "1       None  ...    2012.1   ANIMALIA    CHORDATA  ACTINOPTERYGII   \n",
       "2       None  ...    2012.1   ANIMALIA    CHORDATA  ACTINOPTERYGII   \n",
       "\n",
       "    ORDER_NAME     FAMILY_NAM GENUS_NAME SPECIES_NA CATEGORY  \\\n",
       "0  PERCIFORMES  POMACENTRIDAE  Stegastes   leucorus       VU   \n",
       "1  PERCIFORMES  POMACENTRIDAE  Stegastes   leucorus       VU   \n",
       "2  PERCIFORMES  POMACENTRIDAE  Stegastes   leucorus       VU   \n",
       "\n",
       "                                            geometry  \n",
       "0  POLYGON ((-115.64 29.714, -115.62 29.696, -115...  \n",
       "1  POLYGON ((-105.59 21.893, -105.56 21.851, -105...  \n",
       "2  POLYGON ((-111.16 19.015, -111.16 18.999, -111...  \n",
       "\n",
       "[3 rows x 24 columns]"
      ]
     },
     "execution_count": 40,
     "metadata": {},
     "output_type": "execute_result"
    }
   ],
   "source": [
    "data.head(3)"
   ]
  },
  {
   "cell_type": "code",
   "execution_count": 41,
   "metadata": {
    "colab": {
     "base_uri": "https://localhost:8080/",
     "height": 214
    },
    "executionInfo": {
     "elapsed": 1431,
     "status": "ok",
     "timestamp": 1748756994382,
     "user": {
      "displayName": "Abdullah Wahdain",
      "userId": "04503149618096469309"
     },
     "user_tz": -180
    },
    "id": "4aNLo1_aqxy3",
    "outputId": "a18398eb-62e6-430b-b87f-8f2014d89f2a"
   },
   "outputs": [
    {
     "data": {
      "text/plain": [
       "<Axes: >"
      ]
     },
     "execution_count": 41,
     "metadata": {},
     "output_type": "execute_result"
    },
    {
     "data": {
      "image/png": "[encoded data removed]",
      "text/plain": [
       "<Figure size 640x480 with 1 Axes>"
      ]
     },
     "metadata": {},
     "output_type": "display_data"
    }
   ],
   "source": [
    "# Plot the file data\n",
    "data.plot()"
   ]
  },
  {
   "cell_type": "code",
   "execution_count": 42,
   "metadata": {
    "colab": {
     "base_uri": "https://localhost:8080/"
    },
    "executionInfo": {
     "elapsed": 11,
     "status": "ok",
     "timestamp": 1748757004220,
     "user": {
      "displayName": "Abdullah Wahdain",
      "userId": "04503149618096469309"
     },
     "user_tz": -180
    },
    "id": "TP8UScCgq58P",
    "outputId": "54753910-5cd5-4ae0-875f-155f7ba3a8a8"
   },
   "outputs": [
    {
     "data": {
      "text/plain": [
       "<Geographic 2D CRS: EPSG:4326>\n",
       "Name: WGS 84\n",
       "Axis Info [ellipsoidal]:\n",
       "- Lat[north]: Geodetic latitude (degree)\n",
       "- Lon[east]: Geodetic longitude (degree)\n",
       "Area of Use:\n",
       "- name: World.\n",
       "- bounds: (-180.0, -90.0, 180.0, 90.0)\n",
       "Datum: World Geodetic System 1984 ensemble\n",
       "- Ellipsoid: WGS 84\n",
       "- Prime Meridian: Greenwich"
      ]
     },
     "execution_count": 42,
     "metadata": {},
     "output_type": "execute_result"
    }
   ],
   "source": [
    "# The current coordinate reference system .crs\n",
    "data.crs"
   ]
  },
  {
   "cell_type": "markdown",
   "metadata": {
    "id": "AREmhaKfrZb5"
   },
   "source": [
    "#\n",
    "### Create an output path for the data\n",
    "out = r\"/home/geo/Data/DAMSELFISH_distributions_SELECTION.shp\"\n",
    "\n",
    "### Select first 50 rows\n",
    "selection = data[0:50]\n",
    "\n",
    "### Write those rows into a new Shapefile (the default output file format is Shapefile)\n",
    "selection.to_file(out)"
   ]
  },
  {
   "cell_type": "code",
   "execution_count": 43,
   "metadata": {
    "colab": {
     "base_uri": "https://localhost:8080/",
     "height": 241
    },
    "executionInfo": {
     "elapsed": 7,
     "status": "ok",
     "timestamp": 1748757022478,
     "user": {
      "displayName": "Abdullah Wahdain",
      "userId": "04503149618096469309"
     },
     "user_tz": -180
    },
    "id": "c2F-x45Yrax_",
    "outputId": "71e9a370-3055-4cb0-8b42-e427133fca2a"
   },
   "outputs": [
    {
     "data": {
      "text/plain": [
       "0    POLYGON ((-115.64 29.714, -115.62 29.696, -115...\n",
       "1    POLYGON ((-105.59 21.893, -105.56 21.851, -105...\n",
       "2    POLYGON ((-111.16 19.015, -111.16 18.999, -111...\n",
       "3    POLYGON ((-80.865 -0.77894, -80.759 -0.83337, ...\n",
       "4    POLYGON ((-67.339 -55.676, -67.338 -55.673, -6...\n",
       "Name: geometry, dtype: geometry"
      ]
     },
     "execution_count": 43,
     "metadata": {},
     "output_type": "execute_result"
    }
   ],
   "source": [
    "# Print the first five rows of the column 'geometry'\n",
    "data['geometry'].head()"
   ]
  },
  {
   "cell_type": "code",
   "execution_count": 46,
   "metadata": {
    "colab": {
     "base_uri": "https://localhost:8080/"
    },
    "executionInfo": {
     "elapsed": 92,
     "status": "ok",
     "timestamp": 1748757025763,
     "user": {
      "displayName": "Abdullah Wahdain",
      "userId": "04503149618096469309"
     },
     "user_tz": -180
    },
    "id": "Ft9JBW8zsD9I",
    "outputId": "d579b18b-e046-4236-a604-cd2e9a390c51"
   },
   "outputs": [
    {
     "name": "stdout",
     "output_type": "stream",
     "text": [
      "0      19.396254\n",
      "1       6.145902\n",
      "2       2.697207\n",
      "3      87.460621\n",
      "4       0.000918\n",
      "         ...    \n",
      "226     5.990467\n",
      "227     3.638651\n",
      "228     2.849025\n",
      "229     2.697207\n",
      "230     2.237186\n",
      "Name: area, Length: 231, dtype: object\n"
     ]
    }
   ],
   "source": [
    "# Empty column for area\n",
    "data['area']=None\n",
    "\n",
    "# Calculate the area and add it to the data['area']\n",
    "for index, row in data.iterrows():\n",
    "    # Check if the geometry is not None before calculating the area\n",
    "    if row['geometry'] is not None:\n",
    "        data.loc[index, 'area'] = row['geometry'].area\n",
    "print(data['area'])"
   ]
  },
  {
   "cell_type": "code",
   "execution_count": 55,
   "metadata": {
    "colab": {
     "base_uri": "https://localhost:8080/"
    },
    "executionInfo": {
     "elapsed": 28,
     "status": "ok",
     "timestamp": 1748757080098,
     "user": {
      "displayName": "Abdullah Wahdain",
      "userId": "04503149618096469309"
     },
     "user_tz": -180
    },
    "id": "Apdoph-csvKQ",
    "outputId": "8b737142-49e9-43eb-8971-4240411b73a6"
   },
   "outputs": [
    {
     "name": "stdout",
     "output_type": "stream",
     "text": [
      "2.9890006154142965e-15\n",
      "1493.2009183643906\n"
     ]
    }
   ],
   "source": [
    "# To find the min and max areas\n",
    "min_area=data['area'].min()\n",
    "max_area=data['area'].max()\n",
    "print(min_area)\n",
    "print(max_area)"
   ]
  },
  {
   "cell_type": "code",
   "execution_count": 56,
   "metadata": {
    "colab": {
     "base_uri": "https://localhost:8080/"
    },
    "executionInfo": {
     "elapsed": 10,
     "status": "ok",
     "timestamp": 1748757096580,
     "user": {
      "displayName": "Abdullah Wahdain",
      "userId": "04503149618096469309"
     },
     "user_tz": -180
    },
    "id": "fB2lLshZue1l",
    "outputId": "62df5e1d-574f-48c2-d706-9bc73ebdd546"
   },
   "outputs": [
    {
     "name": "stdout",
     "output_type": "stream",
     "text": [
      "Max area: 1493.2\n",
      "Min area: 0.0\n"
     ]
    }
   ],
   "source": [
    "print(\"Max area: %s\\nMin area: %s\" % (round(max_area, 2), round(min_area, 2)))"
   ]
  },
  {
   "cell_type": "markdown",
   "metadata": {
    "id": "dCN4hbYHxQQ9"
   },
   "source": [
    "### Creating geometries into a GeoDataFrame\n",
    "Since geopandas takes advantage of Shapely geometric objects it is possible to create a Shapefile from a scratch by passing Shapely’s geometric objects into the GeoDataFrame. This is useful as it makes it easy to convert e.g. a text file that contains coordinates into a Shapefile.\n"
   ]
  },
  {
   "cell_type": "code",
   "execution_count": 60,
   "metadata": {
    "colab": {
     "base_uri": "https://localhost:8080/"
    },
    "executionInfo": {
     "elapsed": 5537,
     "status": "ok",
     "timestamp": 1748757152079,
     "user": {
      "displayName": "Abdullah Wahdain",
      "userId": "04503149618096469309"
     },
     "user_tz": -180
    },
    "id": "gFB0o0y2DDjW",
    "outputId": "1578cc3b-9e13-4da5-a079-b5fd269277b4"
   },
   "outputs": [],
   "source": [
    "# pip install fiona"
   ]
  },
  {
   "cell_type": "code",
   "execution_count": 61,
   "metadata": {
    "executionInfo": {
     "elapsed": 69,
     "status": "ok",
     "timestamp": 1748757155096,
     "user": {
      "displayName": "Abdullah Wahdain",
      "userId": "04503149618096469309"
     },
     "user_tz": -180
    },
    "id": "YfmE0nlgxnUR"
   },
   "outputs": [],
   "source": [
    "# Create an empty GeoDataFrame.\n",
    "# Import necessary modules first\n",
    "import pandas as pd\n",
    "import geopandas as gpd\n",
    "from shapely.geometry import Point, Polygon\n",
    "import fiona\n",
    "\n",
    "# Create an empty geopandas GeoDataFrame\n",
    "newdata = gpd.GeoDataFrame()"
   ]
  },
  {
   "cell_type": "code",
   "execution_count": 64,
   "metadata": {
    "colab": {
     "base_uri": "https://localhost:8080/",
     "height": 144
    },
    "executionInfo": {
     "elapsed": 94,
     "status": "ok",
     "timestamp": 1748757161538,
     "user": {
      "displayName": "Abdullah Wahdain",
      "userId": "04503149618096469309"
     },
     "user_tz": -180
    },
    "id": "taPpB6FHx82h",
    "outputId": "89e445ae-3b25-486e-e7ad-468d3b22f0d0"
   },
   "outputs": [
    {
     "data": {
      "text/html": [
       "<div>\n",
       "<style scoped>\n",
       "    .dataframe tbody tr th:only-of-type {\n",
       "        vertical-align: middle;\n",
       "    }\n",
       "\n",
       "    .dataframe tbody tr th {\n",
       "        vertical-align: top;\n",
       "    }\n",
       "\n",
       "    .dataframe thead th {\n",
       "        text-align: right;\n",
       "    }\n",
       "</style>\n",
       "<table border=\"1\" class=\"dataframe\">\n",
       "  <thead>\n",
       "    <tr style=\"text-align: right;\">\n",
       "      <th></th>\n",
       "      <th>geometry</th>\n",
       "    </tr>\n",
       "  </thead>\n",
       "  <tbody>\n",
       "  </tbody>\n",
       "</table>\n",
       "</div>"
      ],
      "text/plain": [
       "Empty GeoDataFrame\n",
       "Columns: [geometry]\n",
       "Index: []"
      ]
     },
     "execution_count": 64,
     "metadata": {},
     "output_type": "execute_result"
    }
   ],
   "source": [
    "# Create a new column called 'geometry' to the GeoDataFramenewdata['geometry'] = None\n",
    "newdata['geometry'] = None\n",
    "\n",
    "# Let's see what's inside\n",
    "newdata"
   ]
  },
  {
   "cell_type": "code",
   "execution_count": 65,
   "metadata": {
    "colab": {
     "base_uri": "https://localhost:8080/",
     "height": 121
    },
    "executionInfo": {
     "elapsed": 9,
     "status": "ok",
     "timestamp": 1748757165330,
     "user": {
      "displayName": "Abdullah Wahdain",
      "userId": "04503149618096469309"
     },
     "user_tz": -180
    },
    "id": "B4CR4pWmyLBJ",
    "outputId": "7ccf924f-813c-4297-8536-df420ca3893c"
   },
   "outputs": [
    {
     "data": {
      "image/svg+xml": [
       "<svg xmlns=\"http://www.w3.org/2000/svg\" xmlns:xlink=\"http://www.w3.org/1999/xlink\" width=\"100.0\" height=\"100.0\" viewBox=\"24.95079456 60.16905356 0.0028198800000041047 0.0011548800000014126\" preserveAspectRatio=\"xMinYMin meet\"><g transform=\"matrix(1,0,0,-1,0,120.339262)\"><path fill-rule=\"evenodd\" fill=\"#66cc99\" stroke=\"#555555\" stroke-width=\"5.639760000008209e-05\" opacity=\"0.6\" d=\"M 24.950899,60.169158 L 24.953492,60.169158 L 24.95351,60.170104 L 24.950958,60.16999 L 24.950899,60.169158 z\" /></g></svg>"
      ],
      "text/plain": [
       "<POLYGON ((25 60.2, 25 60.2, 25 60.2, 25 60.2, 25 60.2))>"
      ]
     },
     "execution_count": 65,
     "metadata": {},
     "output_type": "execute_result"
    }
   ],
   "source": [
    "# Coordinates of the Helsinki Senate square in Decimal Degrees\n",
    "coordinates = [(24.950899, 60.169158), (24.953492, 60.169158), (24.953510, 60.170104), (24.950958, 60.169990)]\n",
    "# Create a Shapely polygon from the coordinate-tuple list\n",
    "poly = Polygon(coordinates)\n",
    "poly"
   ]
  },
  {
   "cell_type": "code",
   "execution_count": 66,
   "metadata": {
    "colab": {
     "base_uri": "https://localhost:8080/",
     "height": 89
    },
    "executionInfo": {
     "elapsed": 36,
     "status": "ok",
     "timestamp": 1748757168962,
     "user": {
      "displayName": "Abdullah Wahdain",
      "userId": "04503149618096469309"
     },
     "user_tz": -180
    },
    "id": "AaxofMEpyudB",
    "outputId": "6b91416a-08bf-45d0-a984-a451695ac467"
   },
   "outputs": [
    {
     "data": {
      "text/html": [
       "<div>\n",
       "<style scoped>\n",
       "    .dataframe tbody tr th:only-of-type {\n",
       "        vertical-align: middle;\n",
       "    }\n",
       "\n",
       "    .dataframe tbody tr th {\n",
       "        vertical-align: top;\n",
       "    }\n",
       "\n",
       "    .dataframe thead th {\n",
       "        text-align: right;\n",
       "    }\n",
       "</style>\n",
       "<table border=\"1\" class=\"dataframe\">\n",
       "  <thead>\n",
       "    <tr style=\"text-align: right;\">\n",
       "      <th></th>\n",
       "      <th>geometry</th>\n",
       "    </tr>\n",
       "  </thead>\n",
       "  <tbody>\n",
       "    <tr>\n",
       "      <th>0</th>\n",
       "      <td>POLYGON ((24.951 60.169, 24.953 60.169, 24.954...</td>\n",
       "    </tr>\n",
       "  </tbody>\n",
       "</table>\n",
       "</div>"
      ],
      "text/plain": [
       "                                            geometry\n",
       "0  POLYGON ((24.951 60.169, 24.953 60.169, 24.954..."
      ]
     },
     "execution_count": 66,
     "metadata": {},
     "output_type": "execute_result"
    }
   ],
   "source": [
    "# Insert the polygon into 'geometry' -column at index 0\n",
    "newdata.loc[0, 'geometry'] = poly\n",
    "newdata"
   ]
  },
  {
   "cell_type": "code",
   "execution_count": 67,
   "metadata": {
    "colab": {
     "base_uri": "https://localhost:8080/",
     "height": 89
    },
    "executionInfo": {
     "elapsed": 37,
     "status": "ok",
     "timestamp": 1748757183645,
     "user": {
      "displayName": "Abdullah Wahdain",
      "userId": "04503149618096469309"
     },
     "user_tz": -180
    },
    "id": "fS6cfsxny3-R",
    "outputId": "31ae4a64-485e-49ee-bae0-d1cbcb92a032"
   },
   "outputs": [
    {
     "data": {
      "text/html": [
       "<div>\n",
       "<style scoped>\n",
       "    .dataframe tbody tr th:only-of-type {\n",
       "        vertical-align: middle;\n",
       "    }\n",
       "\n",
       "    .dataframe tbody tr th {\n",
       "        vertical-align: top;\n",
       "    }\n",
       "\n",
       "    .dataframe thead th {\n",
       "        text-align: right;\n",
       "    }\n",
       "</style>\n",
       "<table border=\"1\" class=\"dataframe\">\n",
       "  <thead>\n",
       "    <tr style=\"text-align: right;\">\n",
       "      <th></th>\n",
       "      <th>geometry</th>\n",
       "      <th>Location</th>\n",
       "    </tr>\n",
       "  </thead>\n",
       "  <tbody>\n",
       "    <tr>\n",
       "      <th>0</th>\n",
       "      <td>POLYGON ((24.951 60.169, 24.953 60.169, 24.954...</td>\n",
       "      <td>Senaatintori</td>\n",
       "    </tr>\n",
       "  </tbody>\n",
       "</table>\n",
       "</div>"
      ],
      "text/plain": [
       "                                            geometry      Location\n",
       "0  POLYGON ((24.951 60.169, 24.953 60.169, 24.954...  Senaatintori"
      ]
     },
     "execution_count": 67,
     "metadata": {},
     "output_type": "execute_result"
    }
   ],
   "source": [
    "# Add a new column and insert data\n",
    "newdata.loc[0, 'Location'] = 'Senaatintori'\n",
    "newdata"
   ]
  },
  {
   "cell_type": "code",
   "execution_count": 68,
   "metadata": {
    "colab": {
     "base_uri": "https://localhost:8080/"
    },
    "executionInfo": {
     "elapsed": 6,
     "status": "ok",
     "timestamp": 1748757190167,
     "user": {
      "displayName": "Abdullah Wahdain",
      "userId": "04503149618096469309"
     },
     "user_tz": -180
    },
    "id": "vzeb19WdzVNp",
    "outputId": "cc805e1a-559a-4022-d05d-626434a271a3"
   },
   "outputs": [
    {
     "data": {
      "text/plain": [
       "<Geographic 2D CRS: EPSG:4326>\n",
       "Name: WGS 84\n",
       "Axis Info [ellipsoidal]:\n",
       "- Lat[north]: Geodetic latitude (degree)\n",
       "- Lon[east]: Geodetic longitude (degree)\n",
       "Area of Use:\n",
       "- undefined\n",
       "Datum: World Geodetic System 1984\n",
       "- Ellipsoid: WGS 84\n",
       "- Prime Meridian: Greenwich"
      ]
     },
     "execution_count": 68,
     "metadata": {},
     "output_type": "execute_result"
    }
   ],
   "source": [
    "# Import specific function 'from_epsg' from fiona module\n",
    "from fiona.crs import from_epsg\n",
    "\n",
    "# Set the GeoDataFrame's coordinate system to WGS84\n",
    "newdata.crs = from_epsg(4326)\n",
    "\n",
    "newdata.crs\n"
   ]
  },
  {
   "cell_type": "markdown",
   "metadata": {
    "id": "eDSgUDAQ0LtW"
   },
   "source": [
    "### Determine the output path for the Shapefile\n",
    "outfp = r\"/home/geo/Data/Senaatintori.shp\"\n",
    "\n",
    "### Write the data into that Shapefile\n",
    "newdata.to_file(out)"
   ]
  },
  {
   "cell_type": "markdown",
   "metadata": {
    "id": "F_as1E_ifJRh"
   },
   "source": [
    "## Grouping data"
   ]
  },
  {
   "cell_type": "code",
   "execution_count": 69,
   "metadata": {
    "colab": {
     "base_uri": "https://localhost:8080/"
    },
    "executionInfo": {
     "elapsed": 6,
     "status": "ok",
     "timestamp": 1748757217616,
     "user": {
      "displayName": "Abdullah Wahdain",
      "userId": "04503149618096469309"
     },
     "user_tz": -180
    },
    "id": "jtUPRVzD0RoR",
    "outputId": "5b84c726-04d1-4c00-c146-266a3fbb41c6"
   },
   "outputs": [
    {
     "name": "stdout",
     "output_type": "stream",
     "text": [
      "<pandas.core.groupby.generic.DataFrameGroupBy object at 0x00000273B1E91C40>\n"
     ]
    }
   ],
   "source": [
    "grouped=data.groupby('BINOMIAL')\n",
    "print(grouped)"
   ]
  },
  {
   "cell_type": "code",
   "execution_count": 153,
   "metadata": {
    "colab": {
     "base_uri": "https://localhost:8080/"
    },
    "executionInfo": {
     "elapsed": 1312,
     "status": "ok",
     "timestamp": 1748757220880,
     "user": {
      "displayName": "Abdullah Wahdain",
      "userId": "04503149618096469309"
     },
     "user_tz": -180
    },
    "id": "fqNW_xGJfWh-",
    "outputId": "381510be-6e74-4b2d-b2f0-425fd2b49fc2"
   },
   "outputs": [
    {
     "data": {
      "text/plain": [
       "<pandas.core.groupby.generic.DataFrameGroupBy object at 0x00000273B1E91C40>"
      ]
     },
     "execution_count": 153,
     "metadata": {},
     "output_type": "execute_result"
    }
   ],
   "source": [
    "grouped"
   ]
  },
  {
   "cell_type": "markdown",
   "metadata": {
    "id": "7MwDJyFtkK0u"
   },
   "source": [
    "\n",
    "---\n",
    "\n",
    "# Part 3\n",
    "### Objectives\n",
    "\n",
    "- Do geocoding, i.e. converting addresses into Points (and vice versa)\n",
    "- Detect the coordinate reference system of your spatial data and define different projections for your datasets (re-project the data)\n",
    "- Conduct a Point in Polygon queries\n",
    "- Make spatial and table joins between layers\n",
    "Sources\n"
   ]
  },
  {
   "cell_type": "markdown",
   "metadata": {
    "id": "NP3McgGTnlvS"
   },
   "source": [
    "## Geocoding\n",
    "\n",
    "Geocoding, i.e. converting addresses into coordinates or vice versa.\n",
    "libraries that makes the geocoding really easy. One of the libraries that can do the geocoding for us is geopy that makes it easy to locate the coordinates of addresses, cities, countries, and landmarks across the globe using third-party geocoders and other data sources.\n",
    "Third-party geocoders list:\n",
    "- ESRI ArcGIS\n",
    "- Baidu Maps\n",
    "- Bing\n",
    "- geocoder.us\n",
    "- GeocodeFarm\n",
    "- GeoNames\n",
    "- Google Geocoding API (V3)\n",
    "- IGN France\n",
    "- Mapquest\n",
    "- Mapzen Search\n",
    "- NaviData\n",
    "- OpenCage\n",
    "- OpenMapQuest\n",
    "- Open Street Map Nominatim\n",
    "- SmartyStreets\n",
    "- What3words\n",
    "- Yandex"
   ]
  },
  {
   "cell_type": "code",
   "execution_count": 79,
   "metadata": {
    "executionInfo": {
     "elapsed": 5,
     "status": "ok",
     "timestamp": 1748757238731,
     "user": {
      "displayName": "Abdullah Wahdain",
      "userId": "04503149618096469309"
     },
     "user_tz": -180
    },
    "id": "dIT5juzqi0OH"
   },
   "outputs": [],
   "source": [
    "# Import necessary modules\n",
    "import pandas as pd\n",
    "import geopandas as gpd\n",
    "from shapely.geometry import Point"
   ]
  },
  {
   "cell_type": "code",
   "execution_count": 81,
   "metadata": {
    "colab": {
     "base_uri": "https://localhost:8080/",
     "height": 206
    },
    "executionInfo": {
     "elapsed": 48,
     "status": "ok",
     "timestamp": 1748757323344,
     "user": {
      "displayName": "Abdullah Wahdain",
      "userId": "04503149618096469309"
     },
     "user_tz": -180
    },
    "id": "2rEIeYKzo-Rm",
    "outputId": "26cce8ef-b120-49dc-f620-cdde2af13c6e"
   },
   "outputs": [
    {
     "data": {
      "text/html": [
       "<div>\n",
       "<style scoped>\n",
       "    .dataframe tbody tr th:only-of-type {\n",
       "        vertical-align: middle;\n",
       "    }\n",
       "\n",
       "    .dataframe tbody tr th {\n",
       "        vertical-align: top;\n",
       "    }\n",
       "\n",
       "    .dataframe thead th {\n",
       "        text-align: right;\n",
       "    }\n",
       "</style>\n",
       "<table border=\"1\" class=\"dataframe\">\n",
       "  <thead>\n",
       "    <tr style=\"text-align: right;\">\n",
       "      <th></th>\n",
       "      <th>id</th>\n",
       "      <th>address</th>\n",
       "    </tr>\n",
       "  </thead>\n",
       "  <tbody>\n",
       "    <tr>\n",
       "      <th>0</th>\n",
       "      <td>1000</td>\n",
       "      <td>Itämerenkatu 14, 00101 Helsinki, Finland</td>\n",
       "    </tr>\n",
       "    <tr>\n",
       "      <th>1</th>\n",
       "      <td>1001</td>\n",
       "      <td>Kampinkuja 1, 00100 Helsinki, Finland</td>\n",
       "    </tr>\n",
       "    <tr>\n",
       "      <th>2</th>\n",
       "      <td>1002</td>\n",
       "      <td>Kaivokatu 8, 00101 Helsinki, Finland</td>\n",
       "    </tr>\n",
       "    <tr>\n",
       "      <th>3</th>\n",
       "      <td>1003</td>\n",
       "      <td>Hermanstads strandsväg 1, 00580 Helsingfors, F...</td>\n",
       "    </tr>\n",
       "    <tr>\n",
       "      <th>4</th>\n",
       "      <td>1004</td>\n",
       "      <td>Itäväylä, 00900 Helsinki, Finland</td>\n",
       "    </tr>\n",
       "  </tbody>\n",
       "</table>\n",
       "</div>"
      ],
      "text/plain": [
       "     id                                            address\n",
       "0  1000           Itämerenkatu 14, 00101 Helsinki, Finland\n",
       "1  1001              Kampinkuja 1, 00100 Helsinki, Finland\n",
       "2  1002               Kaivokatu 8, 00101 Helsinki, Finland\n",
       "3  1003  Hermanstads strandsväg 1, 00580 Helsingfors, F...\n",
       "4  1004                  Itäväylä, 00900 Helsinki, Finland"
      ]
     },
     "execution_count": 81,
     "metadata": {},
     "output_type": "execute_result"
    }
   ],
   "source": [
    "address=pd.read_csv(\"C:\\\\Users\\\\abdul\\\\Downloads\\\\addresses.txt\",sep=';')\n",
    "address.head()"
   ]
  },
  {
   "cell_type": "markdown",
   "metadata": {
    "id": "tG1ky1snsw2X"
   },
   "source": [
    "## Re-projecting data\n",
    "\n",
    "A map projection is a systematic transformation of the latitudes and longitudes into a plain surface. As map projections of gis-layers are fairly often defined differently (i.e. they do not match), it is a common procedure to redefine the map projections to be identical in both layers. It is important that the layers have the same projection as it makes it possible to analyze the spatial relationships between layer, such as conduct the Point in Polygon spatial query"
   ]
  },
  {
   "cell_type": "code",
   "execution_count": 85,
   "metadata": {
    "colab": {
     "base_uri": "https://localhost:8080/"
    },
    "executionInfo": {
     "elapsed": 13,
     "status": "ok",
     "timestamp": 1748757373763,
     "user": {
      "displayName": "Abdullah Wahdain",
      "userId": "04503149618096469309"
     },
     "user_tz": -180
    },
    "id": "qwjZqSsVso2f",
    "outputId": "416d94cf-edde-4bc4-bcc1-401c5d1bcdaf"
   },
   "outputs": [
    {
     "data": {
      "text/plain": [
       "<Geographic 2D CRS: EPSG:4326>\n",
       "Name: WGS 84\n",
       "Axis Info [ellipsoidal]:\n",
       "- Lat[north]: Geodetic latitude (degree)\n",
       "- Lon[east]: Geodetic longitude (degree)\n",
       "Area of Use:\n",
       "- name: World.\n",
       "- bounds: (-180.0, -90.0, 180.0, 90.0)\n",
       "Datum: World Geodetic System 1984 ensemble\n",
       "- Ellipsoid: WGS 84\n",
       "- Prime Meridian: Greenwich"
      ]
     },
     "execution_count": 85,
     "metadata": {},
     "output_type": "execute_result"
    }
   ],
   "source": [
    "# Check the values in our geometry column\n",
    "data['geometry'].crs"
   ]
  },
  {
   "cell_type": "code",
   "execution_count": 86,
   "metadata": {
    "colab": {
     "base_uri": "https://localhost:8080/"
    },
    "executionInfo": {
     "elapsed": 616,
     "status": "ok",
     "timestamp": 1748757381442,
     "user": {
      "displayName": "Abdullah Wahdain",
      "userId": "04503149618096469309"
     },
     "user_tz": -180
    },
    "id": "X3yLXsbztTY3",
    "outputId": "bbe66eda-ac04-41f3-df0c-c9091aee275f"
   },
   "outputs": [
    {
     "name": "stdout",
     "output_type": "stream",
     "text": [
      "0    POLYGON ((-115.64 29.714, -115.62 29.696, -115...\n",
      "1    POLYGON ((-105.59 21.893, -105.56 21.851, -105...\n",
      "2    POLYGON ((-111.16 19.015, -111.16 18.999, -111...\n",
      "3    POLYGON ((-80.865 -0.77894, -80.759 -0.83337, ...\n",
      "4    POLYGON ((-67.339 -55.676, -67.338 -55.673, -6...\n",
      "Name: geometry, dtype: geometry\n",
      "0    POLYGON ((2.15e+07 1.6e+07, 2.15e+07 1.6e+07, ...\n",
      "1    POLYGON ((1.99e+07 1.65e+07, 1.99e+07 1.65e+07...\n",
      "2    POLYGON ((2.05e+07 1.72e+07, 2.05e+07 1.72e+07...\n",
      "3    POLYGON ((1.28e+07 -1.97e+07, 1.28e+07 -1.96e+...\n",
      "4    POLYGON ((2.14e+07 -1.02e+07, 2.14e+07 -1.02e+...\n",
      "Name: geometry, dtype: geometry\n"
     ]
    }
   ],
   "source": [
    "data_proj=data.copy()\n",
    "data_proj['geometry']=data_proj['geometry'].to_crs(epsg=3879)\n",
    "print(data['geometry'].head())\n",
    "print(data_proj['geometry'].head())"
   ]
  },
  {
   "cell_type": "code",
   "execution_count": 87,
   "metadata": {
    "executionInfo": {
     "elapsed": 6,
     "status": "ok",
     "timestamp": 1748757388078,
     "user": {
      "displayName": "Abdullah Wahdain",
      "userId": "04503149618096469309"
     },
     "user_tz": -180
    },
    "id": "TtS36KoVuMIf"
   },
   "outputs": [],
   "source": [
    "# To compare the layers visually\n",
    "\n",
    "import matplotlib.pyplot as plt"
   ]
  },
  {
   "cell_type": "code",
   "execution_count": 88,
   "metadata": {
    "colab": {
     "base_uri": "https://localhost:8080/",
     "height": 690
    },
    "executionInfo": {
     "elapsed": 2576,
     "status": "ok",
     "timestamp": 1748757395361,
     "user": {
      "displayName": "Abdullah Wahdain",
      "userId": "04503149618096469309"
     },
     "user_tz": -180
    },
    "id": "-T_XFhgxwAHy",
    "outputId": "09e8d3f9-cbf7-47e8-fbc7-76da2061897b"
   },
   "outputs": [
    {
     "data": {
      "image/png": "[encoded data removed]",
      "text/plain": [
       "<Figure size 640x480 with 1 Axes>"
      ]
     },
     "metadata": {},
     "output_type": "display_data"
    },
    {
     "data": {
      "image/png": "[encoded data removed]",
      "text/plain": [
       "<Figure size 640x480 with 1 Axes>"
      ]
     },
     "metadata": {},
     "output_type": "display_data"
    }
   ],
   "source": [
    "# Plot the WGS84\n",
    "data.plot(markersize=6, color=\"red\");\n",
    "\n",
    "# Add title\n",
    "plt.title(\"WGS84 projection\");\n",
    "\n",
    "# Pass the coordinate information\n",
    "data_proj.crs = {'y_0': 0, 'no_defs': True, 'x_0': 25500000, 'k': 1, 'lat_0': 0, 'units': 'm', 'lon_0': 25, 'ellps': 'GRS80', 'proj': 'tmerc'}\n",
    "\n",
    "# Remove empty white space around the plot\n",
    "# plt.tight_layout()\n",
    "\n",
    "# Plot the one with ETRS GK-25 projection\n",
    "data_proj.plot(markersize=6, color=\"blue\");\n",
    "\n",
    "# Add title\n",
    "plt.title(\"ETRS GK-25 projection\");\n",
    "\n",
    "# Remove empty white space around the plot\n",
    "plt.tight_layout()"
   ]
  },
  {
   "cell_type": "code",
   "execution_count": 89,
   "metadata": {
    "colab": {
     "base_uri": "https://localhost:8080/"
    },
    "executionInfo": {
     "elapsed": 246,
     "status": "ok",
     "timestamp": 1748757404216,
     "user": {
      "displayName": "Abdullah Wahdain",
      "userId": "04503149618096469309"
     },
     "user_tz": -180
    },
    "id": "VsEWbR4HwJRg",
    "outputId": "bb72422a-060c-4f26-e745-0262ffe6fbc4"
   },
   "outputs": [
    {
     "data": {
      "text/plain": [
       "<Projected CRS: +proj=tmerc +y_0=0 +no_defs +x_0=25500000 +k=1 +la ...>\n",
       "Name: unknown\n",
       "Axis Info [cartesian]:\n",
       "- E[east]: Easting (metre)\n",
       "- N[north]: Northing (metre)\n",
       "Area of Use:\n",
       "- undefined\n",
       "Coordinate Operation:\n",
       "- name: unknown\n",
       "- method: Transverse Mercator\n",
       "Datum: Unknown based on GRS 1980 ellipsoid\n",
       "- Ellipsoid: GRS 1980\n",
       "- Prime Meridian: Greenwich"
      ]
     },
     "execution_count": 89,
     "metadata": {},
     "output_type": "execute_result"
    }
   ],
   "source": [
    "# Pass the coordinate information\n",
    "data_proj.crs = {'y_0': 0, 'no_defs': True, 'x_0': 25500000, 'k': 1, 'lat_0': 0, 'units': 'm', 'lon_0': 25, 'ellps': 'GRS80', 'proj': 'tmerc'}\n",
    "\n",
    "# Check that it changed\n",
    "data_proj.crs"
   ]
  },
  {
   "cell_type": "markdown",
   "metadata": {
    "id": "OsYaBMFMEUR0"
   },
   "source": [
    "---\n",
    "\n",
    "## Part 4\n",
    "### Objectives\n",
    "\n",
    "- Reclassify data based on different criteria (custom or common classifiers).\n",
    "- Do a simple overlay analysis such as selecting data from one layer based on boundaries of another layer.\n",
    "- Aggregate data, i.e. merge geometric objects together, based on some common identifier."
   ]
  },
  {
   "cell_type": "markdown",
   "metadata": {
    "id": "-zdgOySGJDPw"
   },
   "source": [
    "## Geometric operations\n",
    "### Overlay analysis\n",
    "The aim here is to make an overlay analysis where we select only specific polygon cells from the data based on the borders of municipality of Helsinki."
   ]
  },
  {
   "cell_type": "code",
   "execution_count": 90,
   "metadata": {
    "executionInfo": {
     "elapsed": 265,
     "status": "ok",
     "timestamp": 1748758755054,
     "user": {
      "displayName": "Abdullah Wahdain",
      "userId": "04503149618096469309"
     },
     "user_tz": -180
    },
    "id": "DbMVX4EOxhaw"
   },
   "outputs": [],
   "source": [
    "import geopandas as gpd\n",
    "import matplotlib.pyplot as plt\n",
    "\n",
    "# File paths\n",
    "border_fp = \"C:\\\\Users\\\\abdul\\\\Downloads\\\\data (2)\\\\data\\\\Helsinki_borders.shp\"\n",
    "grid_fp = \"C:\\\\Users\\\\abdul\\\\Downloads\\\\data (2)\\\\data\\\\TravelTimes_to_5975375_RailwayStation.shp\"\n",
    "\n",
    "# Read files\n",
    "grid = gpd.read_file(grid_fp)\n",
    "hel = gpd.read_file(border_fp)"
   ]
  },
  {
   "cell_type": "code",
   "execution_count": 91,
   "metadata": {
    "colab": {
     "base_uri": "https://localhost:8080/"
    },
    "executionInfo": {
     "elapsed": 127,
     "status": "ok",
     "timestamp": 1748758881367,
     "user": {
      "displayName": "Abdullah Wahdain",
      "userId": "04503149618096469309"
     },
     "user_tz": -180
    },
    "id": "cf54sZOEJU1k",
    "outputId": "550c173c-40f8-446e-f481-3a21b6a2987e"
   },
   "outputs": [
    {
     "data": {
      "text/plain": [
       "(<Projected CRS: EPSG:3067>\n",
       " Name: ETRS89 / TM35FIN(E,N)\n",
       " Axis Info [cartesian]:\n",
       " - E[east]: Easting (metre)\n",
       " - N[north]: Northing (metre)\n",
       " Area of Use:\n",
       " - name: Finland - onshore and offshore.\n",
       " - bounds: (19.08, 58.84, 31.59, 70.09)\n",
       " Coordinate Operation:\n",
       " - name: TM35FIN\n",
       " - method: Transverse Mercator\n",
       " Datum: European Terrestrial Reference System 1989 ensemble\n",
       " - Ellipsoid: GRS 1980\n",
       " - Prime Meridian: Greenwich,\n",
       " <Projected CRS: EPSG:3067>\n",
       " Name: ETRS89 / TM35FIN(E,N)\n",
       " Axis Info [cartesian]:\n",
       " - E[east]: Easting (metre)\n",
       " - N[north]: Northing (metre)\n",
       " Area of Use:\n",
       " - name: Finland - onshore and offshore.\n",
       " - bounds: (19.08, 58.84, 31.59, 70.09)\n",
       " Coordinate Operation:\n",
       " - name: TM35FIN\n",
       " - method: Transverse Mercator\n",
       " Datum: European Terrestrial Reference System 1989 ensemble\n",
       " - Ellipsoid: GRS 1980\n",
       " - Prime Meridian: Greenwich)"
      ]
     },
     "execution_count": 91,
     "metadata": {},
     "output_type": "execute_result"
    }
   ],
   "source": [
    "# check the coordinate systems\n",
    "grid.crs, hel.crs"
   ]
  },
  {
   "cell_type": "code",
   "execution_count": 92,
   "metadata": {
    "colab": {
     "base_uri": "https://localhost:8080/",
     "height": 462
    },
    "executionInfo": {
     "elapsed": 209,
     "status": "ok",
     "timestamp": 1748758971466,
     "user": {
      "displayName": "Abdullah Wahdain",
      "userId": "04503149618096469309"
     },
     "user_tz": -180
    },
    "id": "H9BmOgIsJhot",
    "outputId": "e72d2ad1-513f-4c10-cf75-34106363bfb7"
   },
   "outputs": [
    {
     "data": {
      "text/plain": [
       "<Axes: >"
      ]
     },
     "execution_count": 92,
     "metadata": {},
     "output_type": "execute_result"
    },
    {
     "data": {
      "image/png": "[encoded data removed]",
      "text/plain": [
       "<Figure size 640x480 with 1 Axes>"
      ]
     },
     "metadata": {},
     "output_type": "display_data"
    }
   ],
   "source": [
    "# Plot the datasets\n",
    "hel.plot()"
   ]
  },
  {
   "cell_type": "code",
   "execution_count": 93,
   "metadata": {
    "colab": {
     "base_uri": "https://localhost:8080/",
     "height": 462
    },
    "executionInfo": {
     "elapsed": 2942,
     "status": "ok",
     "timestamp": 1748758997544,
     "user": {
      "displayName": "Abdullah Wahdain",
      "userId": "04503149618096469309"
     },
     "user_tz": -180
    },
    "id": "BueQDaseKEFG",
    "outputId": "0556c404-d0e7-4e83-fe0a-fe3e50218c73"
   },
   "outputs": [
    {
     "data": {
      "text/plain": [
       "<Axes: >"
      ]
     },
     "execution_count": 93,
     "metadata": {},
     "output_type": "execute_result"
    },
    {
     "data": {
      "image/png": "[encoded data removed]",
      "text/plain": [
       "<Figure size 640x480 with 1 Axes>"
      ]
     },
     "metadata": {},
     "output_type": "display_data"
    }
   ],
   "source": [
    "grid.plot()"
   ]
  },
  {
   "cell_type": "code",
   "execution_count": 94,
   "metadata": {
    "colab": {
     "base_uri": "https://localhost:8080/",
     "height": 487
    },
    "executionInfo": {
     "elapsed": 3420,
     "status": "ok",
     "timestamp": 1748759250627,
     "user": {
      "displayName": "Abdullah Wahdain",
      "userId": "04503149618096469309"
     },
     "user_tz": -180
    },
    "id": "R8DWWu-JKJy-",
    "outputId": "1b90a882-6e57-4aeb-e10a-1c5d12fdbdb1"
   },
   "outputs": [
    {
     "data": {
      "image/png": "[encoded data removed]",
      "text/plain": [
       "<Figure size 640x480 with 1 Axes>"
      ]
     },
     "metadata": {},
     "output_type": "display_data"
    }
   ],
   "source": [
    "basmemap=hel.plot()\n",
    "grid.plot(ax=basmemap, color='red', linewidth=0.02, alpha=0.5)\n",
    "# use tight layout\n",
    "plt.tight_layout()"
   ]
  },
  {
   "cell_type": "code",
   "execution_count": 95,
   "metadata": {
    "colab": {
     "base_uri": "https://localhost:8080/",
     "height": 462
    },
    "executionInfo": {
     "elapsed": 3535,
     "status": "ok",
     "timestamp": 1748759393427,
     "user": {
      "displayName": "Abdullah Wahdain",
      "userId": "04503149618096469309"
     },
     "user_tz": -180
    },
    "id": "AZA-mIPPKwI2",
    "outputId": "1948263e-568b-4c87-ceb8-b2fe36bb4604"
   },
   "outputs": [
    {
     "data": {
      "text/plain": [
       "<Axes: >"
      ]
     },
     "execution_count": 95,
     "metadata": {},
     "output_type": "execute_result"
    },
    {
     "data": {
      "image/png": "[encoded data removed]",
      "text/plain": [
       "<Figure size 640x480 with 1 Axes>"
      ]
     },
     "metadata": {},
     "output_type": "display_data"
    }
   ],
   "source": [
    "# Overlay analysis\n",
    "result = gpd.overlay(grid, hel, how='intersection')\n",
    "result.plot(color='darkred')"
   ]
  },
  {
   "cell_type": "code",
   "execution_count": 96,
   "metadata": {
    "colab": {
     "base_uri": "https://localhost:8080/",
     "height": 608
    },
    "executionInfo": {
     "elapsed": 171,
     "status": "ok",
     "timestamp": 1748759461712,
     "user": {
      "displayName": "Abdullah Wahdain",
      "userId": "04503149618096469309"
     },
     "user_tz": -180
    },
    "id": "82GuxJ7gLqU2",
    "outputId": "9a285c82-833e-4e26-e316-e6b808dbd47a"
   },
   "outputs": [
    {
     "data": {
      "text/html": [
       "<div>\n",
       "<style scoped>\n",
       "    .dataframe tbody tr th:only-of-type {\n",
       "        vertical-align: middle;\n",
       "    }\n",
       "\n",
       "    .dataframe tbody tr th {\n",
       "        vertical-align: top;\n",
       "    }\n",
       "\n",
       "    .dataframe thead th {\n",
       "        text-align: right;\n",
       "    }\n",
       "</style>\n",
       "<table border=\"1\" class=\"dataframe\">\n",
       "  <thead>\n",
       "    <tr style=\"text-align: right;\">\n",
       "      <th></th>\n",
       "      <th>car_m_d</th>\n",
       "      <th>car_m_t</th>\n",
       "      <th>car_r_d</th>\n",
       "      <th>car_r_t</th>\n",
       "      <th>from_id</th>\n",
       "      <th>pt_m_d</th>\n",
       "      <th>pt_m_t</th>\n",
       "      <th>pt_m_tt</th>\n",
       "      <th>pt_r_d</th>\n",
       "      <th>pt_r_t</th>\n",
       "      <th>pt_r_tt</th>\n",
       "      <th>to_id</th>\n",
       "      <th>walk_d</th>\n",
       "      <th>walk_t</th>\n",
       "      <th>GML_ID</th>\n",
       "      <th>NAMEFIN</th>\n",
       "      <th>NAMESWE</th>\n",
       "      <th>NATCODE</th>\n",
       "      <th>geometry</th>\n",
       "    </tr>\n",
       "  </thead>\n",
       "  <tbody>\n",
       "    <tr>\n",
       "      <th>0</th>\n",
       "      <td>29476</td>\n",
       "      <td>41</td>\n",
       "      <td>29483</td>\n",
       "      <td>46</td>\n",
       "      <td>5876274</td>\n",
       "      <td>29990</td>\n",
       "      <td>76</td>\n",
       "      <td>95</td>\n",
       "      <td>24984</td>\n",
       "      <td>77</td>\n",
       "      <td>99</td>\n",
       "      <td>5975375</td>\n",
       "      <td>25532</td>\n",
       "      <td>365</td>\n",
       "      <td>27517366</td>\n",
       "      <td>Helsinki</td>\n",
       "      <td>Helsingfors</td>\n",
       "      <td>091</td>\n",
       "      <td>POLYGON ((4.02e+05 6.69e+06, 4.02e+05 6.69e+06...</td>\n",
       "    </tr>\n",
       "    <tr>\n",
       "      <th>1</th>\n",
       "      <td>29456</td>\n",
       "      <td>41</td>\n",
       "      <td>29462</td>\n",
       "      <td>46</td>\n",
       "      <td>5876275</td>\n",
       "      <td>29866</td>\n",
       "      <td>74</td>\n",
       "      <td>95</td>\n",
       "      <td>24860</td>\n",
       "      <td>75</td>\n",
       "      <td>93</td>\n",
       "      <td>5975375</td>\n",
       "      <td>25408</td>\n",
       "      <td>363</td>\n",
       "      <td>27517366</td>\n",
       "      <td>Helsinki</td>\n",
       "      <td>Helsingfors</td>\n",
       "      <td>091</td>\n",
       "      <td>POLYGON ((4.02e+05 6.69e+06, 4.02e+05 6.69e+06...</td>\n",
       "    </tr>\n",
       "    <tr>\n",
       "      <th>2</th>\n",
       "      <td>36772</td>\n",
       "      <td>50</td>\n",
       "      <td>36778</td>\n",
       "      <td>56</td>\n",
       "      <td>5876278</td>\n",
       "      <td>33541</td>\n",
       "      <td>116</td>\n",
       "      <td>137</td>\n",
       "      <td>44265</td>\n",
       "      <td>130</td>\n",
       "      <td>146</td>\n",
       "      <td>5975375</td>\n",
       "      <td>31110</td>\n",
       "      <td>444</td>\n",
       "      <td>27517366</td>\n",
       "      <td>Helsinki</td>\n",
       "      <td>Helsingfors</td>\n",
       "      <td>091</td>\n",
       "      <td>POLYGON ((4.03e+05 6.69e+06, 4.03e+05 6.69e+06...</td>\n",
       "    </tr>\n",
       "    <tr>\n",
       "      <th>3</th>\n",
       "      <td>36898</td>\n",
       "      <td>49</td>\n",
       "      <td>36904</td>\n",
       "      <td>56</td>\n",
       "      <td>5876279</td>\n",
       "      <td>33720</td>\n",
       "      <td>119</td>\n",
       "      <td>141</td>\n",
       "      <td>44444</td>\n",
       "      <td>132</td>\n",
       "      <td>155</td>\n",
       "      <td>5975375</td>\n",
       "      <td>31289</td>\n",
       "      <td>447</td>\n",
       "      <td>27517366</td>\n",
       "      <td>Helsinki</td>\n",
       "      <td>Helsingfors</td>\n",
       "      <td>091</td>\n",
       "      <td>POLYGON ((4.03e+05 6.69e+06, 4.03e+05 6.69e+06...</td>\n",
       "    </tr>\n",
       "    <tr>\n",
       "      <th>4</th>\n",
       "      <td>29411</td>\n",
       "      <td>40</td>\n",
       "      <td>29418</td>\n",
       "      <td>44</td>\n",
       "      <td>5878128</td>\n",
       "      <td>29944</td>\n",
       "      <td>75</td>\n",
       "      <td>95</td>\n",
       "      <td>24938</td>\n",
       "      <td>76</td>\n",
       "      <td>99</td>\n",
       "      <td>5975375</td>\n",
       "      <td>25486</td>\n",
       "      <td>364</td>\n",
       "      <td>27517366</td>\n",
       "      <td>Helsinki</td>\n",
       "      <td>Helsingfors</td>\n",
       "      <td>091</td>\n",
       "      <td>POLYGON ((4.02e+05 6.69e+06, 4.02e+05 6.69e+06...</td>\n",
       "    </tr>\n",
       "  </tbody>\n",
       "</table>\n",
       "</div>"
      ],
      "text/plain": [
       "   car_m_d  car_m_t  car_r_d  car_r_t  from_id  pt_m_d  pt_m_t  pt_m_tt  \\\n",
       "0    29476       41    29483       46  5876274   29990      76       95   \n",
       "1    29456       41    29462       46  5876275   29866      74       95   \n",
       "2    36772       50    36778       56  5876278   33541     116      137   \n",
       "3    36898       49    36904       56  5876279   33720     119      141   \n",
       "4    29411       40    29418       44  5878128   29944      75       95   \n",
       "\n",
       "   pt_r_d  pt_r_t  pt_r_tt    to_id  walk_d  walk_t    GML_ID   NAMEFIN  \\\n",
       "0   24984      77       99  5975375   25532     365  27517366  Helsinki   \n",
       "1   24860      75       93  5975375   25408     363  27517366  Helsinki   \n",
       "2   44265     130      146  5975375   31110     444  27517366  Helsinki   \n",
       "3   44444     132      155  5975375   31289     447  27517366  Helsinki   \n",
       "4   24938      76       99  5975375   25486     364  27517366  Helsinki   \n",
       "\n",
       "       NAMESWE NATCODE                                           geometry  \n",
       "0  Helsingfors     091  POLYGON ((4.02e+05 6.69e+06, 4.02e+05 6.69e+06...  \n",
       "1  Helsingfors     091  POLYGON ((4.02e+05 6.69e+06, 4.02e+05 6.69e+06...  \n",
       "2  Helsingfors     091  POLYGON ((4.03e+05 6.69e+06, 4.03e+05 6.69e+06...  \n",
       "3  Helsingfors     091  POLYGON ((4.03e+05 6.69e+06, 4.03e+05 6.69e+06...  \n",
       "4  Helsingfors     091  POLYGON ((4.02e+05 6.69e+06, 4.02e+05 6.69e+06...  "
      ]
     },
     "execution_count": 96,
     "metadata": {},
     "output_type": "execute_result"
    }
   ],
   "source": [
    "# Print the data head\n",
    "result.head() # Attibutes from both layers inculded"
   ]
  },
  {
   "cell_type": "code",
   "execution_count": 97,
   "metadata": {
    "colab": {
     "base_uri": "https://localhost:8080/"
    },
    "executionInfo": {
     "elapsed": 8,
     "status": "ok",
     "timestamp": 1748759584521,
     "user": {
      "displayName": "Abdullah Wahdain",
      "userId": "04503149618096469309"
     },
     "user_tz": -180
    },
    "id": "TwCFr8NtL709",
    "outputId": "b324a6df-b284-4b9d-c5c3-580759492179"
   },
   "outputs": [
    {
     "data": {
      "text/plain": [
       "(3826, 13231, 1)"
      ]
     },
     "execution_count": 97,
     "metadata": {},
     "output_type": "execute_result"
    }
   ],
   "source": [
    "# Length of results\n",
    "len(result), len(grid), len(hel)"
   ]
  },
  {
   "cell_type": "code",
   "execution_count": 103,
   "metadata": {
    "colab": {
     "base_uri": "https://localhost:8080/",
     "height": 458
    },
    "executionInfo": {
     "elapsed": 15,
     "status": "ok",
     "timestamp": 1748759607176,
     "user": {
      "displayName": "Abdullah Wahdain",
      "userId": "04503149618096469309"
     },
     "user_tz": -180
    },
    "id": "q_sQOWTlMZ2W",
    "outputId": "edf2f60f-8d2a-4618-e577-e505bab922c1"
   },
   "outputs": [
    {
     "data": {
      "text/plain": [
       "0    650.14\n",
       "1    357.47\n",
       "2    229.91\n",
       "3    491.74\n",
       "4    327.46\n",
       "dtype: float64"
      ]
     },
     "execution_count": 103,
     "metadata": {},
     "output_type": "execute_result"
    }
   ],
   "source": [
    "round(result.length.head(),2)"
   ]
  },
  {
   "cell_type": "markdown",
   "metadata": {
    "id": "qVnuvknhPaY5"
   },
   "source": [
    "## Data reclassification\n",
    "Reclassifying data based on specific criteria is a common task when doing GIS analysis.\n",
    "\n",
    "### The target in this part of the lesson is to:\n",
    "\n",
    "- classify the lakes into big and small lakes where\n",
    "\n",
    "  - a big lake is a lake that is larger than the average size of all lakes in our study region\n",
    "  - a small lake ^ vice versa\n",
    "- use travel times and distances to find out\n",
    "  - good locations to buy an apartment with good - public tranportation accessibility to city center\n",
    "  - but from a bit further away from city center where the prices are lower (or at least we assume so).\n",
    "  - use ready made classifiers from pysal -module to classify travel times into multiple classes."
   ]
  },
  {
   "cell_type": "code",
   "execution_count": 105,
   "metadata": {
    "executionInfo": {
     "elapsed": 253,
     "status": "ok",
     "timestamp": 1748762966808,
     "user": {
      "displayName": "Abdullah Wahdain",
      "userId": "04503149618096469309"
     },
     "user_tz": -180
    },
    "id": "aWIQ9kHEOjJe"
   },
   "outputs": [],
   "source": [
    "import geopandas as gpd\n",
    "import matplotlib.pyplot as plt\n",
    "\n",
    "# File path\n",
    "fp = \"C:\\\\Users\\\\abdul\\\\Downloads\\\\data (2)\\\\data\\\\Corine2012_Uusimaa.shp\"\n",
    "\n",
    "data = gpd.read_file(fp)"
   ]
  },
  {
   "cell_type": "code",
   "execution_count": 106,
   "metadata": {
    "colab": {
     "base_uri": "https://localhost:8080/"
    },
    "executionInfo": {
     "elapsed": 12,
     "status": "ok",
     "timestamp": 1748762969263,
     "user": {
      "displayName": "Abdullah Wahdain",
      "userId": "04503149618096469309"
     },
     "user_tz": -180
    },
    "id": "RDinb0HgQoj-",
    "outputId": "6a970d39-2a5b-49a6-f584-56a85935062c"
   },
   "outputs": [
    {
     "data": {
      "text/plain": [
       "Index(['Level1', 'Level1Eng', 'Level2', 'Level2Eng', 'Level3', 'Level3Eng',\n",
       "       'Luokka3', 'geometry'],\n",
       "      dtype='object')"
      ]
     },
     "execution_count": 106,
     "metadata": {},
     "output_type": "execute_result"
    }
   ],
   "source": [
    "# Data preparation\n",
    "# Select only English columns\n",
    "selected_cols = ['Level1', 'Level1Eng', 'Level2', 'Level2Eng', 'Level3', 'Level3Eng', 'Luokka3', 'geometry']\n",
    "# Select data\n",
    "data = data[selected_cols]\n",
    "# What are the columns now?\n",
    "data.columns"
   ]
  },
  {
   "cell_type": "code",
   "execution_count": 107,
   "metadata": {
    "colab": {
     "base_uri": "https://localhost:8080/",
     "height": 487
    },
    "executionInfo": {
     "elapsed": 1731,
     "status": "ok",
     "timestamp": 1748762973087,
     "user": {
      "displayName": "Abdullah Wahdain",
      "userId": "04503149618096469309"
     },
     "user_tz": -180
    },
    "id": "y527PdPyRMl-",
    "outputId": "9d1b619b-ee63-4070-a70f-31e282cb7c50"
   },
   "outputs": [
    {
     "data": {
      "image/png": "[encoded data removed]",
      "text/plain": [
       "<Figure size 640x480 with 2 Axes>"
      ]
     },
     "metadata": {},
     "output_type": "display_data"
    }
   ],
   "source": [
    "# Plot the data and use 'Level3 as our color\n",
    "data.plot(column='Level3', legend=True)\n",
    "plt.tight_layout()"
   ]
  },
  {
   "cell_type": "code",
   "execution_count": 108,
   "metadata": {
    "colab": {
     "base_uri": "https://localhost:8080/"
    },
    "executionInfo": {
     "elapsed": 18,
     "status": "ok",
     "timestamp": 1748762974463,
     "user": {
      "displayName": "Abdullah Wahdain",
      "userId": "04503149618096469309"
     },
     "user_tz": -180
    },
    "id": "XvDzc-7pRdvG",
    "outputId": "64d22e72-04e2-4686-90ee-f5ba20e0c2ab"
   },
   "outputs": [
    {
     "data": {
      "text/plain": [
       "['Discontinuous urban fabric',\n",
       " 'Transitional woodland/shrub',\n",
       " 'Non-irrigated arable land',\n",
       " 'Fruit trees and berry plantations',\n",
       " 'Pastures',\n",
       " 'Land principally occupied by agriculture, with significant areas of natural vegetation',\n",
       " 'Bare rock',\n",
       " 'Inland marshes',\n",
       " 'Peatbogs',\n",
       " 'Salt marshes',\n",
       " 'Water courses',\n",
       " 'Water bodies',\n",
       " 'Sea and ocean',\n",
       " 'Industrial or commercial units',\n",
       " 'Road and rail networks and associated land',\n",
       " 'Port areas',\n",
       " 'Airports',\n",
       " 'Mineral extraction sites',\n",
       " 'Broad-leaved forest',\n",
       " 'Dump sites',\n",
       " 'Coniferous forest',\n",
       " 'Construction sites',\n",
       " 'Green urban areas',\n",
       " 'Sport and leisure facilities',\n",
       " 'Mixed forest']"
      ]
     },
     "execution_count": 108,
     "metadata": {},
     "output_type": "execute_result"
    }
   ],
   "source": [
    "# What values in 'Level3Eng'\n",
    "list(data['Level3Eng'].unique())"
   ]
  },
  {
   "cell_type": "code",
   "execution_count": 109,
   "metadata": {
    "colab": {
     "base_uri": "https://localhost:8080/",
     "height": 380
    },
    "executionInfo": {
     "elapsed": 138,
     "status": "ok",
     "timestamp": 1748762980322,
     "user": {
      "displayName": "Abdullah Wahdain",
      "userId": "04503149618096469309"
     },
     "user_tz": -180
    },
    "id": "KHxzsSLSR4q9",
    "outputId": "2360c704-f496-47d0-eae4-17632f1b93f0"
   },
   "outputs": [
    {
     "data": {
      "text/html": [
       "<div>\n",
       "<style scoped>\n",
       "    .dataframe tbody tr th:only-of-type {\n",
       "        vertical-align: middle;\n",
       "    }\n",
       "\n",
       "    .dataframe tbody tr th {\n",
       "        vertical-align: top;\n",
       "    }\n",
       "\n",
       "    .dataframe thead th {\n",
       "        text-align: right;\n",
       "    }\n",
       "</style>\n",
       "<table border=\"1\" class=\"dataframe\">\n",
       "  <thead>\n",
       "    <tr style=\"text-align: right;\">\n",
       "      <th></th>\n",
       "      <th>Level1</th>\n",
       "      <th>Level1Eng</th>\n",
       "      <th>Level2</th>\n",
       "      <th>Level2Eng</th>\n",
       "      <th>Level3</th>\n",
       "      <th>Level3Eng</th>\n",
       "      <th>Luokka3</th>\n",
       "      <th>geometry</th>\n",
       "    </tr>\n",
       "  </thead>\n",
       "  <tbody>\n",
       "    <tr>\n",
       "      <th>1388</th>\n",
       "      <td>5</td>\n",
       "      <td>Water bodies</td>\n",
       "      <td>51</td>\n",
       "      <td>Inland waters</td>\n",
       "      <td>512</td>\n",
       "      <td>Water bodies</td>\n",
       "      <td>512</td>\n",
       "      <td>POLYGON ((2.98e+05 6.64e+06, 2.98e+05 6.64e+06...</td>\n",
       "    </tr>\n",
       "    <tr>\n",
       "      <th>1389</th>\n",
       "      <td>5</td>\n",
       "      <td>Water bodies</td>\n",
       "      <td>51</td>\n",
       "      <td>Inland waters</td>\n",
       "      <td>512</td>\n",
       "      <td>Water bodies</td>\n",
       "      <td>512</td>\n",
       "      <td>POLYGON ((2.87e+05 6.64e+06, 2.87e+05 6.64e+06...</td>\n",
       "    </tr>\n",
       "    <tr>\n",
       "      <th>1390</th>\n",
       "      <td>5</td>\n",
       "      <td>Water bodies</td>\n",
       "      <td>51</td>\n",
       "      <td>Inland waters</td>\n",
       "      <td>512</td>\n",
       "      <td>Water bodies</td>\n",
       "      <td>512</td>\n",
       "      <td>POLYGON ((3e+05 6.65e+06, 3e+05 6.65e+06, 3e+0...</td>\n",
       "    </tr>\n",
       "    <tr>\n",
       "      <th>1391</th>\n",
       "      <td>5</td>\n",
       "      <td>Water bodies</td>\n",
       "      <td>51</td>\n",
       "      <td>Inland waters</td>\n",
       "      <td>512</td>\n",
       "      <td>Water bodies</td>\n",
       "      <td>512</td>\n",
       "      <td>POLYGON ((3.01e+05 6.65e+06, 3.01e+05 6.65e+06...</td>\n",
       "    </tr>\n",
       "    <tr>\n",
       "      <th>1392</th>\n",
       "      <td>5</td>\n",
       "      <td>Water bodies</td>\n",
       "      <td>51</td>\n",
       "      <td>Inland waters</td>\n",
       "      <td>512</td>\n",
       "      <td>Water bodies</td>\n",
       "      <td>512</td>\n",
       "      <td>POLYGON ((3.12e+05 6.65e+06, 3.12e+05 6.65e+06...</td>\n",
       "    </tr>\n",
       "  </tbody>\n",
       "</table>\n",
       "</div>"
      ],
      "text/plain": [
       "      Level1     Level1Eng  Level2      Level2Eng  Level3     Level3Eng  \\\n",
       "1388       5  Water bodies      51  Inland waters     512  Water bodies   \n",
       "1389       5  Water bodies      51  Inland waters     512  Water bodies   \n",
       "1390       5  Water bodies      51  Inland waters     512  Water bodies   \n",
       "1391       5  Water bodies      51  Inland waters     512  Water bodies   \n",
       "1392       5  Water bodies      51  Inland waters     512  Water bodies   \n",
       "\n",
       "     Luokka3                                           geometry  \n",
       "1388     512  POLYGON ((2.98e+05 6.64e+06, 2.98e+05 6.64e+06...  \n",
       "1389     512  POLYGON ((2.87e+05 6.64e+06, 2.87e+05 6.64e+06...  \n",
       "1390     512  POLYGON ((3e+05 6.65e+06, 3e+05 6.65e+06, 3e+0...  \n",
       "1391     512  POLYGON ((3.01e+05 6.65e+06, 3.01e+05 6.65e+06...  \n",
       "1392     512  POLYGON ((3.12e+05 6.65e+06, 3.12e+05 6.65e+06...  "
      ]
     },
     "execution_count": 109,
     "metadata": {},
     "output_type": "execute_result"
    }
   ],
   "source": [
    "# Select only lakes by using .loc\n",
    "lakes = data.loc[data['Level3Eng']=='Water bodies'].copy()\n",
    "lakes.head()"
   ]
  },
  {
   "cell_type": "code",
   "execution_count": 110,
   "metadata": {
    "colab": {
     "base_uri": "https://localhost:8080/",
     "height": 241
    },
    "executionInfo": {
     "elapsed": 29,
     "status": "ok",
     "timestamp": 1748763027526,
     "user": {
      "displayName": "Abdullah Wahdain",
      "userId": "04503149618096469309"
     },
     "user_tz": -180
    },
    "id": "zcZo0ILLSiL-",
    "outputId": "2d5568a3-c9e7-46a3-c947-6516d2e67dd3"
   },
   "outputs": [
    {
     "data": {
      "text/plain": [
       "1388    268310.708164\n",
       "1389    917661.921348\n",
       "1390    272964.307429\n",
       "1391    351962.332987\n",
       "1392    739194.333134\n",
       "Name: area, dtype: float64"
      ]
     },
     "execution_count": 110,
     "metadata": {},
     "output_type": "execute_result"
    }
   ],
   "source": [
    "# caluctate the area of lakes\n",
    "lakes['area'] = lakes.area\n",
    "lakes['area'].head()\n"
   ]
  },
  {
   "cell_type": "code",
   "execution_count": 111,
   "metadata": {
    "colab": {
     "base_uri": "https://localhost:8080/",
     "height": 241
    },
    "executionInfo": {
     "elapsed": 12,
     "status": "ok",
     "timestamp": 1748763063752,
     "user": {
      "displayName": "Abdullah Wahdain",
      "userId": "04503149618096469309"
     },
     "user_tz": -180
    },
    "id": "YKkIXITeT2RJ",
    "outputId": "f230adc0-c4d8-432e-cd3b-53e477e5770a"
   },
   "outputs": [
    {
     "data": {
      "text/plain": [
       "1388    0.268311\n",
       "1389    0.917662\n",
       "1390    0.272964\n",
       "1391    0.351962\n",
       "1392    0.739194\n",
       "Name: area_km^2, dtype: float64"
      ]
     },
     "execution_count": 111,
     "metadata": {},
     "output_type": "execute_result"
    }
   ],
   "source": [
    "# In square meter\n",
    "lakes['area_km^2']= lakes['area']/1000000\n",
    "lakes['area_km^2'].head()"
   ]
  },
  {
   "cell_type": "code",
   "execution_count": 112,
   "metadata": {
    "colab": {
     "base_uri": "https://localhost:8080/"
    },
    "executionInfo": {
     "elapsed": 19,
     "status": "ok",
     "timestamp": 1748763119255,
     "user": {
      "displayName": "Abdullah Wahdain",
      "userId": "04503149618096469309"
     },
     "user_tz": -180
    },
    "id": "m0qdRk--Uft1",
    "outputId": "34224779-3556-47c5-f60b-80c0089b9d52"
   },
   "outputs": [
    {
     "data": {
      "text/plain": [
       "1.5828513727796714"
      ]
     },
     "execution_count": 112,
     "metadata": {},
     "output_type": "execute_result"
    }
   ],
   "source": [
    "# Area mean()\n",
    "lake_mean_area=lakes['area_km^2'].mean()\n",
    "lake_mean_area"
   ]
  },
  {
   "cell_type": "markdown",
   "metadata": {
    "id": "uobFrB7rWHww"
   },
   "source": [
    "## Creating a custom classifier\n",
    "Let’s create a function where we classify the geometries into two classes based on a given threshold -parameter. If the area of a polygon is lower than the threshold value (average size of the lake), the output column will get a value 0, if it is larger, it will get a value 1"
   ]
  },
  {
   "cell_type": "code",
   "execution_count": 113,
   "metadata": {
    "executionInfo": {
     "elapsed": 3,
     "status": "ok",
     "timestamp": 1748763533874,
     "user": {
      "displayName": "Abdullah Wahdain",
      "userId": "04503149618096469309"
     },
     "user_tz": -180
    },
    "id": "WnYq1gfjUqnu"
   },
   "outputs": [],
   "source": [
    "# Create empty column for our classification\n",
    "lakes['small_big']=None\n",
    "\n",
    "# Create a function for our classification task\n",
    "def binary_classifier(row, souce_col, threshold):\n",
    "    if row[souce_col]<threshold:\n",
    "        return 0\n",
    "    else:\n",
    "        return 1"
   ]
  },
  {
   "cell_type": "code",
   "execution_count": 114,
   "metadata": {
    "executionInfo": {
     "elapsed": 4,
     "status": "ok",
     "timestamp": 1748763616322,
     "user": {
      "displayName": "Abdullah Wahdain",
      "userId": "04503149618096469309"
     },
     "user_tz": -180
    },
    "id": "hdZnqOmVXqBy"
   },
   "outputs": [],
   "source": [
    "lakes['small_big']=lakes.apply(binary_classifier, axis=1, souce_col='area_km^2', threshold=lake_mean_area)"
   ]
  },
  {
   "cell_type": "code",
   "execution_count": 115,
   "metadata": {
    "colab": {
     "base_uri": "https://localhost:8080/",
     "height": 437
    },
    "executionInfo": {
     "elapsed": 345,
     "status": "ok",
     "timestamp": 1748763704694,
     "user": {
      "displayName": "Abdullah Wahdain",
      "userId": "04503149618096469309"
     },
     "user_tz": -180
    },
    "id": "Ck8UZUoJYdbN",
    "outputId": "85ee3c85-6da2-4899-eb56-7f82a7ba7d14"
   },
   "outputs": [
    {
     "data": {
      "text/plain": [
       "<Axes: >"
      ]
     },
     "execution_count": 115,
     "metadata": {},
     "output_type": "execute_result"
    },
    {
     "data": {
      "image/png": "[encoded data removed]",
      "text/plain": [
       "<Figure size 640x480 with 2 Axes>"
      ]
     },
     "metadata": {},
     "output_type": "display_data"
    }
   ],
   "source": [
    "lakes.plot(column='small_big', cmap='seismic', linewidth=0.05, legend=True)"
   ]
  },
  {
   "cell_type": "markdown",
   "metadata": {
    "id": "CsZ0Qcblc4iW"
   },
   "source": [
    "## Classification based on common classifiers\n",
    "Pysal -module is an extensive Python library including various functions and tools to do spatial data analysis. It also includes all of the most common data classifiers that are used commonly e.g. when visualizing data. Available map classifiers in pysal -module are (see here for more details):\n",
    "\n",
    "- Box_Plot\n",
    "- Equal_Interval\n",
    "- Fisher_Jenks\n",
    "- Fisher_Jenks_Sampled\n",
    "- HeadTail_Breaks\n",
    "- Jenks_Caspall\n",
    "- enks_Caspall_Forced\n",
    "- Jenks_Caspall_Sampled\n",
    "- Max_P_Classifier\n",
    "- Maximum_Breaks\n",
    "- Natural_Breaks\n",
    "- Quantiles\n",
    "- Percentiles\n",
    "- Std_Mean\n",
    "- User_Defined"
   ]
  },
  {
   "cell_type": "markdown",
   "metadata": {
    "id": "J1veW9A_h6ol"
   },
   "source": [
    "---\n",
    "\n",
    "## Part 5\n",
    "Create beautiful maps in Python and  share them on GitHub using GitHub Pages.\n",
    "\n",
    "- Matplotlib (static maps, integrated into Geopandas)\n",
    "- Bokeh (interactive plots)\n",
    "- Folium (interactive Web maps on Leaflet)\n",
    "- mplleaflet (converts Matplotlib plots easily to interactive Leaflet maps)\n",
    "- Basemap (Matplotlib’s own mapping module)\n",
    "- GeoViews\n",
    "\n",
    "## Objectives\n",
    "- Create a static map using Geopandas\n",
    "- Create a simple interactive map using either Bokeh or Folium (or both).\n",
    "- Share your maps (static / interactive) on GitHub using GitHub pages."
   ]
  },
  {
   "cell_type": "markdown",
   "metadata": {
    "id": "qbx62_Abq2pE"
   },
   "source": [
    "## Static maps"
   ]
  },
  {
   "cell_type": "code",
   "execution_count": 116,
   "metadata": {
    "executionInfo": {
     "elapsed": 1628,
     "status": "ok",
     "timestamp": 1748767677269,
     "user": {
      "displayName": "Abdullah Wahdain",
      "userId": "04503149618096469309"
     },
     "user_tz": -180
    },
    "id": "rha7mks-f5i1"
   },
   "outputs": [],
   "source": [
    "import geopandas as gpd\n",
    "import matplotlib.pyplot as plt\n",
    "\n",
    "# Filepaths\n",
    "grid_fp = r\"C:\\\\Users\\\\abdul\\\\Downloads\\\\dataE5\\\\dataE5\\\\TravelTimes_to_5975375_RailwayStation.shp\"\n",
    "roads_fp = r\"C:\\\\Users\\\\abdul\\\\Downloads\\\\dataE5\\\\dataE5\\\\roads.shp\"\n",
    "metro_fp = r\"C:\\\\Users\\\\abdul\\\\Downloads\\\\dataE5\\\\dataE5\\metro.shp\"\n",
    "\n",
    "# Read files\n",
    "grid = gpd.read_file(grid_fp)\n",
    "roads = gpd.read_file(roads_fp)\n",
    "metro = gpd.read_file(metro_fp)"
   ]
  },
  {
   "cell_type": "code",
   "execution_count": 117,
   "metadata": {
    "executionInfo": {
     "elapsed": 126,
     "status": "ok",
     "timestamp": 1748767710925,
     "user": {
      "displayName": "Abdullah Wahdain",
      "userId": "04503149618096469309"
     },
     "user_tz": -180
    },
    "id": "P8HUWMunrRN3"
   },
   "outputs": [],
   "source": [
    "# Get the CRS of the grid\n",
    "gridCRS = grid.crs\n",
    "\n",
    "# Reproject geometries using the crs of travel time grid\n",
    "roads['geometry'] = roads['geometry'].to_crs(crs=gridCRS)\n",
    "metro['geometry'] = metro['geometry'].to_crs(crs=gridCRS)"
   ]
  },
  {
   "cell_type": "code",
   "execution_count": 118,
   "metadata": {
    "colab": {
     "base_uri": "https://localhost:8080/",
     "height": 487
    },
    "executionInfo": {
     "elapsed": 3448,
     "status": "ok",
     "timestamp": 1748767966104,
     "user": {
      "displayName": "Abdullah Wahdain",
      "userId": "04503149618096469309"
     },
     "user_tz": -180
    },
    "id": "NE3OX6MPrZy2",
    "outputId": "d8e77636-b397-48fa-b6a5-1c10efbabb8f"
   },
   "outputs": [
    {
     "data": {
      "image/png": "[encoded data removed]",
      "text/plain": [
       "<Figure size 640x480 with 1 Axes>"
      ]
     },
     "metadata": {},
     "output_type": "display_data"
    }
   ],
   "source": [
    "# Visualize the travel times into 9 classes using \"Quantiles\" classification scheme\n",
    "# Add also a little bit of transparency with `alpha` parameter\n",
    "# (ranges from 0 to 1 where 0 is fully transparent and 1 has no transparency)\n",
    "my_map = grid.plot(column=\"car_r_t\", linewidth=0.03, cmap=\"Reds\", scheme=\"quantiles\", k=9, alpha=0.9)\n",
    "\n",
    "# Add roads on top of the grid\n",
    "# (use ax parameter to define the map on top of which the second items are plotted)\n",
    "roads.plot(ax=my_map, color=\"black\", linewidth=1.5)\n",
    "\n",
    "# Add metro on top of the previous map\n",
    "metro.plot(ax=my_map, color=\"red\", linewidth=2.5)\n",
    "\n",
    "# Remove the empty white-space around the axes\n",
    "plt.tight_layout()\n",
    "\n",
    "# Save the figure as png file with resolution of 300 dpi\n",
    "# outfp = r\"/home/geo/data/static_map.png\"\n",
    "# plt.savefig(outfp, dpi=300)"
   ]
  },
  {
   "cell_type": "markdown",
   "metadata": {
    "id": "x9MxKzjish16"
   },
   "source": [
    "## Interactive maps\n",
    "\n",
    "### Bokeh"
   ]
  },
  {
   "cell_type": "code",
   "execution_count": 119,
   "metadata": {
    "executionInfo": {
     "elapsed": 1177,
     "status": "ok",
     "timestamp": 1748768072469,
     "user": {
      "displayName": "Abdullah Wahdain",
      "userId": "04503149618096469309"
     },
     "user_tz": -180
    },
    "id": "6oyaPmEqr3LP"
   },
   "outputs": [],
   "source": [
    "from bokeh.plotting import figure, save"
   ]
  },
  {
   "cell_type": "code",
   "execution_count": 120,
   "metadata": {
    "colab": {
     "base_uri": "https://localhost:8080/",
     "height": 34
    },
    "executionInfo": {
     "elapsed": 58,
     "status": "ok",
     "timestamp": 1748768116949,
     "user": {
      "displayName": "Abdullah Wahdain",
      "userId": "04503149618096469309"
     },
     "user_tz": -180
    },
    "id": "SIbbyo5wsxzf",
    "outputId": "d053fc14-5fb3-46e9-9e12-e3bf73742ecb"
   },
   "outputs": [
    {
     "data": {
      "text/html": [
       "<div style=\"display: table;\"><div style=\"display: table-row;\"><div style=\"display: table-cell;\"><b title=\"bokeh.plotting._figure.figure\">figure</b>(</div><div style=\"display: table-cell;\">id&nbsp;=&nbsp;'p1001', <span id=\"p1037\" style=\"cursor: pointer;\">&hellip;)</span></div></div><div class=\"p1036\" style=\"display: none;\"><div style=\"display: table-cell;\"></div><div style=\"display: table-cell;\">above&nbsp;=&nbsp;[],</div></div><div class=\"p1036\" style=\"display: none;\"><div style=\"display: table-cell;\"></div><div style=\"display: table-cell;\">align&nbsp;=&nbsp;'auto',</div></div><div class=\"p1036\" style=\"display: none;\"><div style=\"display: table-cell;\"></div><div style=\"display: table-cell;\">aspect_ratio&nbsp;=&nbsp;None,</div></div><div class=\"p1036\" style=\"display: none;\"><div style=\"display: table-cell;\"></div><div style=\"display: table-cell;\">aspect_scale&nbsp;=&nbsp;1,</div></div><div class=\"p1036\" style=\"display: none;\"><div style=\"display: table-cell;\"></div><div style=\"display: table-cell;\">attribution&nbsp;=&nbsp;[],</div></div><div class=\"p1036\" style=\"display: none;\"><div style=\"display: table-cell;\"></div><div style=\"display: table-cell;\">background_fill_alpha&nbsp;=&nbsp;1.0,</div></div><div class=\"p1036\" style=\"display: none;\"><div style=\"display: table-cell;\"></div><div style=\"display: table-cell;\">background_fill_color&nbsp;=&nbsp;'#ffffff',</div></div><div class=\"p1036\" style=\"display: none;\"><div style=\"display: table-cell;\"></div><div style=\"display: table-cell;\">below&nbsp;=&nbsp;[LinearAxis(id='p1013', ...)],</div></div><div class=\"p1036\" style=\"display: none;\"><div style=\"display: table-cell;\"></div><div style=\"display: table-cell;\">border_fill_alpha&nbsp;=&nbsp;1.0,</div></div><div class=\"p1036\" style=\"display: none;\"><div style=\"display: table-cell;\"></div><div style=\"display: table-cell;\">border_fill_color&nbsp;=&nbsp;'#ffffff',</div></div><div class=\"p1036\" style=\"display: none;\"><div style=\"display: table-cell;\"></div><div style=\"display: table-cell;\">center&nbsp;=&nbsp;[Grid(id='p1017', ...), Grid(id='p1022', ...)],</div></div><div class=\"p1036\" style=\"display: none;\"><div style=\"display: table-cell;\"></div><div style=\"display: table-cell;\">context_menu&nbsp;=&nbsp;None,</div></div><div class=\"p1036\" style=\"display: none;\"><div style=\"display: table-cell;\"></div><div style=\"display: table-cell;\">css_classes&nbsp;=&nbsp;[],</div></div><div class=\"p1036\" style=\"display: none;\"><div style=\"display: table-cell;\"></div><div style=\"display: table-cell;\">css_variables&nbsp;=&nbsp;{},</div></div><div class=\"p1036\" style=\"display: none;\"><div style=\"display: table-cell;\"></div><div style=\"display: table-cell;\">disabled&nbsp;=&nbsp;False,</div></div><div class=\"p1036\" style=\"display: none;\"><div style=\"display: table-cell;\"></div><div style=\"display: table-cell;\">elements&nbsp;=&nbsp;[],</div></div><div class=\"p1036\" style=\"display: none;\"><div style=\"display: table-cell;\"></div><div style=\"display: table-cell;\">extra_x_ranges&nbsp;=&nbsp;{},</div></div><div class=\"p1036\" style=\"display: none;\"><div style=\"display: table-cell;\"></div><div style=\"display: table-cell;\">extra_x_scales&nbsp;=&nbsp;{},</div></div><div class=\"p1036\" style=\"display: none;\"><div style=\"display: table-cell;\"></div><div style=\"display: table-cell;\">extra_y_ranges&nbsp;=&nbsp;{},</div></div><div class=\"p1036\" style=\"display: none;\"><div style=\"display: table-cell;\"></div><div style=\"display: table-cell;\">extra_y_scales&nbsp;=&nbsp;{},</div></div><div class=\"p1036\" style=\"display: none;\"><div style=\"display: table-cell;\"></div><div style=\"display: table-cell;\">flow_mode&nbsp;=&nbsp;'block',</div></div><div class=\"p1036\" style=\"display: none;\"><div style=\"display: table-cell;\"></div><div style=\"display: table-cell;\">frame_align&nbsp;=&nbsp;True,</div></div><div class=\"p1036\" style=\"display: none;\"><div style=\"display: table-cell;\"></div><div style=\"display: table-cell;\">frame_height&nbsp;=&nbsp;None,</div></div><div class=\"p1036\" style=\"display: none;\"><div style=\"display: table-cell;\"></div><div style=\"display: table-cell;\">frame_width&nbsp;=&nbsp;None,</div></div><div class=\"p1036\" style=\"display: none;\"><div style=\"display: table-cell;\"></div><div style=\"display: table-cell;\">height&nbsp;=&nbsp;600,</div></div><div class=\"p1036\" style=\"display: none;\"><div style=\"display: table-cell;\"></div><div style=\"display: table-cell;\">height_policy&nbsp;=&nbsp;'auto',</div></div><div class=\"p1036\" style=\"display: none;\"><div style=\"display: table-cell;\"></div><div style=\"display: table-cell;\">hidpi&nbsp;=&nbsp;True,</div></div><div class=\"p1036\" style=\"display: none;\"><div style=\"display: table-cell;\"></div><div style=\"display: table-cell;\">hold_render&nbsp;=&nbsp;False,</div></div><div class=\"p1036\" style=\"display: none;\"><div style=\"display: table-cell;\"></div><div style=\"display: table-cell;\">js_event_callbacks&nbsp;=&nbsp;{},</div></div><div class=\"p1036\" style=\"display: none;\"><div style=\"display: table-cell;\"></div><div style=\"display: table-cell;\">js_property_callbacks&nbsp;=&nbsp;{},</div></div><div class=\"p1036\" style=\"display: none;\"><div style=\"display: table-cell;\"></div><div style=\"display: table-cell;\">left&nbsp;=&nbsp;[LinearAxis(id='p1018', ...)],</div></div><div class=\"p1036\" style=\"display: none;\"><div style=\"display: table-cell;\"></div><div style=\"display: table-cell;\">lod_factor&nbsp;=&nbsp;10,</div></div><div class=\"p1036\" style=\"display: none;\"><div style=\"display: table-cell;\"></div><div style=\"display: table-cell;\">lod_interval&nbsp;=&nbsp;300,</div></div><div class=\"p1036\" style=\"display: none;\"><div style=\"display: table-cell;\"></div><div style=\"display: table-cell;\">lod_threshold&nbsp;=&nbsp;2000,</div></div><div class=\"p1036\" style=\"display: none;\"><div style=\"display: table-cell;\"></div><div style=\"display: table-cell;\">lod_timeout&nbsp;=&nbsp;500,</div></div><div class=\"p1036\" style=\"display: none;\"><div style=\"display: table-cell;\"></div><div style=\"display: table-cell;\">margin&nbsp;=&nbsp;None,</div></div><div class=\"p1036\" style=\"display: none;\"><div style=\"display: table-cell;\"></div><div style=\"display: table-cell;\">match_aspect&nbsp;=&nbsp;False,</div></div><div class=\"p1036\" style=\"display: none;\"><div style=\"display: table-cell;\"></div><div style=\"display: table-cell;\">max_height&nbsp;=&nbsp;None,</div></div><div class=\"p1036\" style=\"display: none;\"><div style=\"display: table-cell;\"></div><div style=\"display: table-cell;\">max_width&nbsp;=&nbsp;None,</div></div><div class=\"p1036\" style=\"display: none;\"><div style=\"display: table-cell;\"></div><div style=\"display: table-cell;\">min_border&nbsp;=&nbsp;5,</div></div><div class=\"p1036\" style=\"display: none;\"><div style=\"display: table-cell;\"></div><div style=\"display: table-cell;\">min_border_bottom&nbsp;=&nbsp;None,</div></div><div class=\"p1036\" style=\"display: none;\"><div style=\"display: table-cell;\"></div><div style=\"display: table-cell;\">min_border_left&nbsp;=&nbsp;None,</div></div><div class=\"p1036\" style=\"display: none;\"><div style=\"display: table-cell;\"></div><div style=\"display: table-cell;\">min_border_right&nbsp;=&nbsp;None,</div></div><div class=\"p1036\" style=\"display: none;\"><div style=\"display: table-cell;\"></div><div style=\"display: table-cell;\">min_border_top&nbsp;=&nbsp;None,</div></div><div class=\"p1036\" style=\"display: none;\"><div style=\"display: table-cell;\"></div><div style=\"display: table-cell;\">min_height&nbsp;=&nbsp;None,</div></div><div class=\"p1036\" style=\"display: none;\"><div style=\"display: table-cell;\"></div><div style=\"display: table-cell;\">min_width&nbsp;=&nbsp;None,</div></div><div class=\"p1036\" style=\"display: none;\"><div style=\"display: table-cell;\"></div><div style=\"display: table-cell;\">name&nbsp;=&nbsp;None,</div></div><div class=\"p1036\" style=\"display: none;\"><div style=\"display: table-cell;\"></div><div style=\"display: table-cell;\">outline_line_alpha&nbsp;=&nbsp;1.0,</div></div><div class=\"p1036\" style=\"display: none;\"><div style=\"display: table-cell;\"></div><div style=\"display: table-cell;\">outline_line_cap&nbsp;=&nbsp;'butt',</div></div><div class=\"p1036\" style=\"display: none;\"><div style=\"display: table-cell;\"></div><div style=\"display: table-cell;\">outline_line_color&nbsp;=&nbsp;'#e5e5e5',</div></div><div class=\"p1036\" style=\"display: none;\"><div style=\"display: table-cell;\"></div><div style=\"display: table-cell;\">outline_line_dash&nbsp;=&nbsp;[],</div></div><div class=\"p1036\" style=\"display: none;\"><div style=\"display: table-cell;\"></div><div style=\"display: table-cell;\">outline_line_dash_offset&nbsp;=&nbsp;0,</div></div><div class=\"p1036\" style=\"display: none;\"><div style=\"display: table-cell;\"></div><div style=\"display: table-cell;\">outline_line_join&nbsp;=&nbsp;'bevel',</div></div><div class=\"p1036\" style=\"display: none;\"><div style=\"display: table-cell;\"></div><div style=\"display: table-cell;\">outline_line_width&nbsp;=&nbsp;1,</div></div><div class=\"p1036\" style=\"display: none;\"><div style=\"display: table-cell;\"></div><div style=\"display: table-cell;\">output_backend&nbsp;=&nbsp;'canvas',</div></div><div class=\"p1036\" style=\"display: none;\"><div style=\"display: table-cell;\"></div><div style=\"display: table-cell;\">renderers&nbsp;=&nbsp;[],</div></div><div class=\"p1036\" style=\"display: none;\"><div style=\"display: table-cell;\"></div><div style=\"display: table-cell;\">reset_policy&nbsp;=&nbsp;'standard',</div></div><div class=\"p1036\" style=\"display: none;\"><div style=\"display: table-cell;\"></div><div style=\"display: table-cell;\">resizable&nbsp;=&nbsp;False,</div></div><div class=\"p1036\" style=\"display: none;\"><div style=\"display: table-cell;\"></div><div style=\"display: table-cell;\">right&nbsp;=&nbsp;[],</div></div><div class=\"p1036\" style=\"display: none;\"><div style=\"display: table-cell;\"></div><div style=\"display: table-cell;\">sizing_mode&nbsp;=&nbsp;None,</div></div><div class=\"p1036\" style=\"display: none;\"><div style=\"display: table-cell;\"></div><div style=\"display: table-cell;\">styles&nbsp;=&nbsp;{},</div></div><div class=\"p1036\" style=\"display: none;\"><div style=\"display: table-cell;\"></div><div style=\"display: table-cell;\">stylesheets&nbsp;=&nbsp;[],</div></div><div class=\"p1036\" style=\"display: none;\"><div style=\"display: table-cell;\"></div><div style=\"display: table-cell;\">subscribed_events&nbsp;=&nbsp;PropertyValueSet(),</div></div><div class=\"p1036\" style=\"display: none;\"><div style=\"display: table-cell;\"></div><div style=\"display: table-cell;\">syncable&nbsp;=&nbsp;True,</div></div><div class=\"p1036\" style=\"display: none;\"><div style=\"display: table-cell;\"></div><div style=\"display: table-cell;\">tags&nbsp;=&nbsp;[],</div></div><div class=\"p1036\" style=\"display: none;\"><div style=\"display: table-cell;\"></div><div style=\"display: table-cell;\">title&nbsp;=&nbsp;Title(id='p1004', ...),</div></div><div class=\"p1036\" style=\"display: none;\"><div style=\"display: table-cell;\"></div><div style=\"display: table-cell;\">title_location&nbsp;=&nbsp;'above',</div></div><div class=\"p1036\" style=\"display: none;\"><div style=\"display: table-cell;\"></div><div style=\"display: table-cell;\">toolbar&nbsp;=&nbsp;Toolbar(id='p1010', ...),</div></div><div class=\"p1036\" style=\"display: none;\"><div style=\"display: table-cell;\"></div><div style=\"display: table-cell;\">toolbar_inner&nbsp;=&nbsp;False,</div></div><div class=\"p1036\" style=\"display: none;\"><div style=\"display: table-cell;\"></div><div style=\"display: table-cell;\">toolbar_location&nbsp;=&nbsp;'right',</div></div><div class=\"p1036\" style=\"display: none;\"><div style=\"display: table-cell;\"></div><div style=\"display: table-cell;\">toolbar_sticky&nbsp;=&nbsp;True,</div></div><div class=\"p1036\" style=\"display: none;\"><div style=\"display: table-cell;\"></div><div style=\"display: table-cell;\">visible&nbsp;=&nbsp;True,</div></div><div class=\"p1036\" style=\"display: none;\"><div style=\"display: table-cell;\"></div><div style=\"display: table-cell;\">width&nbsp;=&nbsp;600,</div></div><div class=\"p1036\" style=\"display: none;\"><div style=\"display: table-cell;\"></div><div style=\"display: table-cell;\">width_policy&nbsp;=&nbsp;'auto',</div></div><div class=\"p1036\" style=\"display: none;\"><div style=\"display: table-cell;\"></div><div style=\"display: table-cell;\">x_range&nbsp;=&nbsp;DataRange1d(id='p1002', ...),</div></div><div class=\"p1036\" style=\"display: none;\"><div style=\"display: table-cell;\"></div><div style=\"display: table-cell;\">x_scale&nbsp;=&nbsp;LinearScale(id='p1011', ...),</div></div><div class=\"p1036\" style=\"display: none;\"><div style=\"display: table-cell;\"></div><div style=\"display: table-cell;\">y_range&nbsp;=&nbsp;DataRange1d(id='p1003', ...),</div></div><div class=\"p1036\" style=\"display: none;\"><div style=\"display: table-cell;\"></div><div style=\"display: table-cell;\">y_scale&nbsp;=&nbsp;LinearScale(id='p1012', ...))</div></div></div>\n",
       "<script>\n",
       "(function() {\n",
       "  let expanded = false;\n",
       "  const ellipsis = document.getElementById(\"p1037\");\n",
       "  ellipsis.addEventListener(\"click\", function() {\n",
       "    const rows = document.getElementsByClassName(\"p1036\");\n",
       "    for (let i = 0; i < rows.length; i++) {\n",
       "      const el = rows[i];\n",
       "      el.style.display = expanded ? \"none\" : \"table-row\";\n",
       "    }\n",
       "    ellipsis.innerHTML = expanded ? \"&hellip;)\" : \"&lsaquo;&lsaquo;&lsaquo;\";\n",
       "    expanded = !expanded;\n",
       "  });\n",
       "})();\n",
       "</script>\n"
      ],
      "text/plain": [
       "figure(id='p1001', ...)"
      ]
     },
     "execution_count": 120,
     "metadata": {},
     "output_type": "execute_result"
    }
   ],
   "source": [
    "# Initialize the plot (p) and give it a title\n",
    "p = figure(title=\"My first interactive plot!\")\n",
    "p"
   ]
  },
  {
   "cell_type": "code",
   "execution_count": 121,
   "metadata": {
    "executionInfo": {
     "elapsed": 5,
     "status": "ok",
     "timestamp": 1748768148998,
     "user": {
      "displayName": "Abdullah Wahdain",
      "userId": "04503149618096469309"
     },
     "user_tz": -180
    },
    "id": "QjUvPY8ps88n"
   },
   "outputs": [],
   "source": [
    "# Create a list of x-coordinates\n",
    "x_coords = [0,1,2,3,4]\n",
    "\n",
    "# Create a list of y-coordinates\n",
    "y_coords = [5,4,1,2,0]"
   ]
  },
  {
   "cell_type": "markdown",
   "metadata": {
    "id": "hiRTKzTbtJGI"
   },
   "source": [
    "Note:\n",
    "\n",
    "In Bokeh drawing points, lines or polygons are always done using list(s) of x and y coordinates."
   ]
  },
  {
   "cell_type": "code",
   "execution_count": 123,
   "metadata": {
    "colab": {
     "base_uri": "https://localhost:8080/",
     "height": 72
    },
    "executionInfo": {
     "elapsed": 126,
     "status": "ok",
     "timestamp": 1748768217316,
     "user": {
      "displayName": "Abdullah Wahdain",
      "userId": "04503149618096469309"
     },
     "user_tz": -180
    },
    "id": "tPPo8LOZtBsP",
    "outputId": "254b9a6e-5bc8-464f-b61b-bd91732c37cd"
   },
   "outputs": [
    {
     "data": {
      "text/html": [
       "<div style=\"display: table;\"><div style=\"display: table-row;\"><div style=\"display: table-cell;\"><b title=\"bokeh.models.renderers.glyph_renderer.GlyphRenderer\">GlyphRenderer</b>(</div><div style=\"display: table-cell;\">id&nbsp;=&nbsp;'p1055', <span id=\"p1059\" style=\"cursor: pointer;\">&hellip;)</span></div></div><div class=\"p1058\" style=\"display: none;\"><div style=\"display: table-cell;\"></div><div style=\"display: table-cell;\">context_menu&nbsp;=&nbsp;None,</div></div><div class=\"p1058\" style=\"display: none;\"><div style=\"display: table-cell;\"></div><div style=\"display: table-cell;\">coordinates&nbsp;=&nbsp;None,</div></div><div class=\"p1058\" style=\"display: none;\"><div style=\"display: table-cell;\"></div><div style=\"display: table-cell;\">css_classes&nbsp;=&nbsp;[],</div></div><div class=\"p1058\" style=\"display: none;\"><div style=\"display: table-cell;\"></div><div style=\"display: table-cell;\">css_variables&nbsp;=&nbsp;{},</div></div><div class=\"p1058\" style=\"display: none;\"><div style=\"display: table-cell;\"></div><div style=\"display: table-cell;\">data_source&nbsp;=&nbsp;ColumnDataSource(id='p1049', ...),</div></div><div class=\"p1058\" style=\"display: none;\"><div style=\"display: table-cell;\"></div><div style=\"display: table-cell;\">glyph&nbsp;=&nbsp;Scatter(id='p1052', ...),</div></div><div class=\"p1058\" style=\"display: none;\"><div style=\"display: table-cell;\"></div><div style=\"display: table-cell;\">group&nbsp;=&nbsp;None,</div></div><div class=\"p1058\" style=\"display: none;\"><div style=\"display: table-cell;\"></div><div style=\"display: table-cell;\">hover_glyph&nbsp;=&nbsp;None,</div></div><div class=\"p1058\" style=\"display: none;\"><div style=\"display: table-cell;\"></div><div style=\"display: table-cell;\">js_event_callbacks&nbsp;=&nbsp;{},</div></div><div class=\"p1058\" style=\"display: none;\"><div style=\"display: table-cell;\"></div><div style=\"display: table-cell;\">js_property_callbacks&nbsp;=&nbsp;{},</div></div><div class=\"p1058\" style=\"display: none;\"><div style=\"display: table-cell;\"></div><div style=\"display: table-cell;\">level&nbsp;=&nbsp;'glyph',</div></div><div class=\"p1058\" style=\"display: none;\"><div style=\"display: table-cell;\"></div><div style=\"display: table-cell;\">muted&nbsp;=&nbsp;False,</div></div><div class=\"p1058\" style=\"display: none;\"><div style=\"display: table-cell;\"></div><div style=\"display: table-cell;\">muted_glyph&nbsp;=&nbsp;Scatter(id='p1054', ...),</div></div><div class=\"p1058\" style=\"display: none;\"><div style=\"display: table-cell;\"></div><div style=\"display: table-cell;\">name&nbsp;=&nbsp;None,</div></div><div class=\"p1058\" style=\"display: none;\"><div style=\"display: table-cell;\"></div><div style=\"display: table-cell;\">nonselection_glyph&nbsp;=&nbsp;Scatter(id='p1053', ...),</div></div><div class=\"p1058\" style=\"display: none;\"><div style=\"display: table-cell;\"></div><div style=\"display: table-cell;\">propagate_hover&nbsp;=&nbsp;False,</div></div><div class=\"p1058\" style=\"display: none;\"><div style=\"display: table-cell;\"></div><div style=\"display: table-cell;\">selection_glyph&nbsp;=&nbsp;'auto',</div></div><div class=\"p1058\" style=\"display: none;\"><div style=\"display: table-cell;\"></div><div style=\"display: table-cell;\">styles&nbsp;=&nbsp;{},</div></div><div class=\"p1058\" style=\"display: none;\"><div style=\"display: table-cell;\"></div><div style=\"display: table-cell;\">stylesheets&nbsp;=&nbsp;[],</div></div><div class=\"p1058\" style=\"display: none;\"><div style=\"display: table-cell;\"></div><div style=\"display: table-cell;\">subscribed_events&nbsp;=&nbsp;PropertyValueSet(),</div></div><div class=\"p1058\" style=\"display: none;\"><div style=\"display: table-cell;\"></div><div style=\"display: table-cell;\">syncable&nbsp;=&nbsp;True,</div></div><div class=\"p1058\" style=\"display: none;\"><div style=\"display: table-cell;\"></div><div style=\"display: table-cell;\">tags&nbsp;=&nbsp;[],</div></div><div class=\"p1058\" style=\"display: none;\"><div style=\"display: table-cell;\"></div><div style=\"display: table-cell;\">view&nbsp;=&nbsp;CDSView(id='p1056', ...),</div></div><div class=\"p1058\" style=\"display: none;\"><div style=\"display: table-cell;\"></div><div style=\"display: table-cell;\">visible&nbsp;=&nbsp;True,</div></div><div class=\"p1058\" style=\"display: none;\"><div style=\"display: table-cell;\"></div><div style=\"display: table-cell;\">x_range_name&nbsp;=&nbsp;'default',</div></div><div class=\"p1058\" style=\"display: none;\"><div style=\"display: table-cell;\"></div><div style=\"display: table-cell;\">y_range_name&nbsp;=&nbsp;'default')</div></div></div>\n",
       "<script>\n",
       "(function() {\n",
       "  let expanded = false;\n",
       "  const ellipsis = document.getElementById(\"p1059\");\n",
       "  ellipsis.addEventListener(\"click\", function() {\n",
       "    const rows = document.getElementsByClassName(\"p1058\");\n",
       "    for (let i = 0; i < rows.length; i++) {\n",
       "      const el = rows[i];\n",
       "      el.style.display = expanded ? \"none\" : \"table-row\";\n",
       "    }\n",
       "    ellipsis.innerHTML = expanded ? \"&hellip;)\" : \"&lsaquo;&lsaquo;&lsaquo;\";\n",
       "    expanded = !expanded;\n",
       "  });\n",
       "})();\n",
       "</script>\n"
      ],
      "text/plain": [
       "GlyphRenderer(id='p1055', ...)"
      ]
     },
     "execution_count": 123,
     "metadata": {},
     "output_type": "execute_result"
    }
   ],
   "source": [
    "# Plot the points\n",
    "p.scatter(x=x_coords, y=y_coords, size=10, color=\"red\")"
   ]
  },
  {
   "cell_type": "markdown",
   "metadata": {
    "id": "Vxjq1Feetqni"
   },
   "source": [
    "Finally, we can save our interactive plot into the disk with save -function that we imported in the beginning. All interactive plots are typically saved as html files which you can open in a web-browser."
   ]
  },
  {
   "cell_type": "code",
   "execution_count": 146,
   "metadata": {},
   "outputs": [
    {
     "name": "stderr",
     "output_type": "stream",
     "text": [
      "C:\\Users\\abdul\\AppData\\Local\\Temp\\ipykernel_1808\\3336279559.py:5: UserWarning: save() called but no resources were supplied and output_file(...) was never called, defaulting to resources.CDN\n",
      "  save(obj=p, filename=outfp)\n",
      "C:\\Users\\abdul\\AppData\\Local\\Temp\\ipykernel_1808\\3336279559.py:5: UserWarning: save() called but no title was supplied and output_file(...) was never called, using default title 'Bokeh Plot'\n",
      "  save(obj=p, filename=outfp)\n"
     ]
    },
    {
     "data": {
      "text/plain": [
       "'C:\\\\Users\\\\abdul\\\\Downloads\\\\dataE5\\\\dataE5\\\\points.html'"
      ]
     },
     "execution_count": 146,
     "metadata": {},
     "output_type": "execute_result"
    }
   ],
   "source": [
    "# Give output filepath\n",
    "outfp = r\"C:\\\\Users\\\\abdul\\\\Downloads\\\\dataE5\\\\dataE5\\\\points.html\"\n",
    "\n",
    "# Save the plot by passing the plot -object and output path\n",
    "save(obj=p, filename=outfp)"
   ]
  },
  {
   "cell_type": "markdown",
   "metadata": {
    "colab": {
     "base_uri": "https://localhost:8080/",
     "height": 125
    },
    "executionInfo": {
     "elapsed": 99,
     "status": "ok",
     "timestamp": 1748769136333,
     "user": {
      "displayName": "Abdullah Wahdain",
      "userId": "04503149618096469309"
     },
     "user_tz": -180
    },
    "id": "s1wPyBXItVaP",
    "outputId": "bfe95353-e4cf-4a5e-c7d5-03e2018ed460"
   },
   "source": [
    "# Give output filepath\n",
    "outfp = r\"/content/points.html\"\n",
    "\n",
    "# Save the plot by passing the plot -object and output path\n",
    "save(obj=p, filename=outfp)"
   ]
  },
  {
   "cell_type": "markdown",
   "metadata": {
    "id": "deJIM4kcxq_J"
   },
   "source": [
    "## Creating interactive maps using Bokeh and Geopandas\n",
    "\n",
    "Creating an interactive Bokeh map from Shapefile(s) contains typically following steps:\n",
    "\n",
    "- Read the Shapefile into GeoDataFrame\n",
    "- Calculate the x and y coordinates of the geometries into separate columns\n",
    "- Convert the GeoDataFrame into a Bokeh DataSource\n",
    "- Plot the x and y coordinates as points, lines or polygons (which are in Bokeh words: circle, multi_line and patches)"
   ]
  },
  {
   "cell_type": "code",
   "execution_count": 137,
   "metadata": {
    "executionInfo": {
     "elapsed": 4,
     "status": "ok",
     "timestamp": 1748778801138,
     "user": {
      "displayName": "Abdullah Wahdain",
      "userId": "04503149618096469309"
     },
     "user_tz": -180
    },
    "id": "r1GptMVytu0P"
   },
   "outputs": [],
   "source": [
    "# File path\n",
    "points_fp = r\"C:\\\\Users\\\\abdul\\\\Downloads\\\\dataE5\\\\dataE5\\\\addresses.shp\"\n",
    "\n",
    "# Read the data\n",
    "points = gpd.read_file(points_fp)"
   ]
  },
  {
   "cell_type": "code",
   "execution_count": 138,
   "metadata": {
    "colab": {
     "base_uri": "https://localhost:8080/",
     "height": 206
    },
    "executionInfo": {
     "elapsed": 155,
     "status": "ok",
     "timestamp": 1748778804614,
     "user": {
      "displayName": "Abdullah Wahdain",
      "userId": "04503149618096469309"
     },
     "user_tz": -180
    },
    "id": "-ZqZzprkyM6f",
    "outputId": "799fd5d9-bfa8-4e13-8519-c664d639e926"
   },
   "outputs": [
    {
     "data": {
      "text/html": [
       "<div>\n",
       "<style scoped>\n",
       "    .dataframe tbody tr th:only-of-type {\n",
       "        vertical-align: middle;\n",
       "    }\n",
       "\n",
       "    .dataframe tbody tr th {\n",
       "        vertical-align: top;\n",
       "    }\n",
       "\n",
       "    .dataframe thead th {\n",
       "        text-align: right;\n",
       "    }\n",
       "</style>\n",
       "<table border=\"1\" class=\"dataframe\">\n",
       "  <thead>\n",
       "    <tr style=\"text-align: right;\">\n",
       "      <th></th>\n",
       "      <th>address</th>\n",
       "      <th>id</th>\n",
       "      <th>geometry</th>\n",
       "    </tr>\n",
       "  </thead>\n",
       "  <tbody>\n",
       "    <tr>\n",
       "      <th>0</th>\n",
       "      <td>Kampinkuja 1, 00100 Helsinki, Finland</td>\n",
       "      <td>1001</td>\n",
       "      <td>POINT (24.93 60.168)</td>\n",
       "    </tr>\n",
       "    <tr>\n",
       "      <th>1</th>\n",
       "      <td>Kaivokatu 8, 00101 Helsinki, Finland</td>\n",
       "      <td>1002</td>\n",
       "      <td>POINT (24.942 60.17)</td>\n",
       "    </tr>\n",
       "    <tr>\n",
       "      <th>2</th>\n",
       "      <td>Hermanstads strandsväg 1, 00580 Helsingfors, F...</td>\n",
       "      <td>1003</td>\n",
       "      <td>POINT (24.977 60.187)</td>\n",
       "    </tr>\n",
       "    <tr>\n",
       "      <th>3</th>\n",
       "      <td>Itäväylä, 00900 Helsinki, Finland</td>\n",
       "      <td>1004</td>\n",
       "      <td>POINT (25.092 60.214)</td>\n",
       "    </tr>\n",
       "    <tr>\n",
       "      <th>4</th>\n",
       "      <td>Tyynenmerenkatu 9, 00220 Helsinki, Finland</td>\n",
       "      <td>1005</td>\n",
       "      <td>POINT (24.921 60.157)</td>\n",
       "    </tr>\n",
       "  </tbody>\n",
       "</table>\n",
       "</div>"
      ],
      "text/plain": [
       "                                             address    id  \\\n",
       "0              Kampinkuja 1, 00100 Helsinki, Finland  1001   \n",
       "1               Kaivokatu 8, 00101 Helsinki, Finland  1002   \n",
       "2  Hermanstads strandsväg 1, 00580 Helsingfors, F...  1003   \n",
       "3                  Itäväylä, 00900 Helsinki, Finland  1004   \n",
       "4         Tyynenmerenkatu 9, 00220 Helsinki, Finland  1005   \n",
       "\n",
       "                geometry  \n",
       "0   POINT (24.93 60.168)  \n",
       "1   POINT (24.942 60.17)  \n",
       "2  POINT (24.977 60.187)  \n",
       "3  POINT (25.092 60.214)  \n",
       "4  POINT (24.921 60.157)  "
      ]
     },
     "execution_count": 138,
     "metadata": {},
     "output_type": "execute_result"
    }
   ],
   "source": [
    "points.head()"
   ]
  },
  {
   "cell_type": "markdown",
   "metadata": {
    "id": "YIy5qRyPyasP"
   },
   "source": [
    "Create afunction called getPointCoords() which will return the x or y coordinate of a given geometry. It shall have two parameters: geom and coord_type where the first one should be a Shapely geometry object and coord_type should be either 'x' or 'y'."
   ]
  },
  {
   "cell_type": "code",
   "execution_count": 139,
   "metadata": {
    "executionInfo": {
     "elapsed": 17,
     "status": "ok",
     "timestamp": 1748778807920,
     "user": {
      "displayName": "Abdullah Wahdain",
      "userId": "04503149618096469309"
     },
     "user_tz": -180
    },
    "id": "WXiFBO1iyRjP"
   },
   "outputs": [],
   "source": [
    "def getPointCoords(row, geom, coord_type):\n",
    "    \"\"\"Calculates coordinates ('x' or 'y') of a Point geometry\"\"\"\n",
    "    if coord_type == 'x':\n",
    "        return row[geom].x\n",
    "    elif coord_type == 'y':\n",
    "        return row[geom].y"
   ]
  },
  {
   "cell_type": "code",
   "execution_count": 140,
   "metadata": {
    "colab": {
     "base_uri": "https://localhost:8080/",
     "height": 206
    },
    "executionInfo": {
     "elapsed": 132,
     "status": "ok",
     "timestamp": 1748778810736,
     "user": {
      "displayName": "Abdullah Wahdain",
      "userId": "04503149618096469309"
     },
     "user_tz": -180
    },
    "id": "N6Z7XCvZytAX",
    "outputId": "279ff9b0-34fb-4892-9f6e-32e2d0c655e9"
   },
   "outputs": [
    {
     "data": {
      "text/html": [
       "<div>\n",
       "<style scoped>\n",
       "    .dataframe tbody tr th:only-of-type {\n",
       "        vertical-align: middle;\n",
       "    }\n",
       "\n",
       "    .dataframe tbody tr th {\n",
       "        vertical-align: top;\n",
       "    }\n",
       "\n",
       "    .dataframe thead th {\n",
       "        text-align: right;\n",
       "    }\n",
       "</style>\n",
       "<table border=\"1\" class=\"dataframe\">\n",
       "  <thead>\n",
       "    <tr style=\"text-align: right;\">\n",
       "      <th></th>\n",
       "      <th>address</th>\n",
       "      <th>id</th>\n",
       "      <th>geometry</th>\n",
       "      <th>x</th>\n",
       "      <th>y</th>\n",
       "    </tr>\n",
       "  </thead>\n",
       "  <tbody>\n",
       "    <tr>\n",
       "      <th>0</th>\n",
       "      <td>Kampinkuja 1, 00100 Helsinki, Finland</td>\n",
       "      <td>1001</td>\n",
       "      <td>POINT (24.93 60.168)</td>\n",
       "      <td>24.930170</td>\n",
       "      <td>60.168373</td>\n",
       "    </tr>\n",
       "    <tr>\n",
       "      <th>1</th>\n",
       "      <td>Kaivokatu 8, 00101 Helsinki, Finland</td>\n",
       "      <td>1002</td>\n",
       "      <td>POINT (24.942 60.17)</td>\n",
       "      <td>24.941893</td>\n",
       "      <td>60.169866</td>\n",
       "    </tr>\n",
       "    <tr>\n",
       "      <th>2</th>\n",
       "      <td>Hermanstads strandsväg 1, 00580 Helsingfors, F...</td>\n",
       "      <td>1003</td>\n",
       "      <td>POINT (24.977 60.187)</td>\n",
       "      <td>24.977400</td>\n",
       "      <td>60.187359</td>\n",
       "    </tr>\n",
       "    <tr>\n",
       "      <th>3</th>\n",
       "      <td>Itäväylä, 00900 Helsinki, Finland</td>\n",
       "      <td>1004</td>\n",
       "      <td>POINT (25.092 60.214)</td>\n",
       "      <td>25.091964</td>\n",
       "      <td>60.214481</td>\n",
       "    </tr>\n",
       "    <tr>\n",
       "      <th>4</th>\n",
       "      <td>Tyynenmerenkatu 9, 00220 Helsinki, Finland</td>\n",
       "      <td>1005</td>\n",
       "      <td>POINT (24.921 60.157)</td>\n",
       "      <td>24.921485</td>\n",
       "      <td>60.156578</td>\n",
       "    </tr>\n",
       "  </tbody>\n",
       "</table>\n",
       "</div>"
      ],
      "text/plain": [
       "                                             address    id  \\\n",
       "0              Kampinkuja 1, 00100 Helsinki, Finland  1001   \n",
       "1               Kaivokatu 8, 00101 Helsinki, Finland  1002   \n",
       "2  Hermanstads strandsväg 1, 00580 Helsingfors, F...  1003   \n",
       "3                  Itäväylä, 00900 Helsinki, Finland  1004   \n",
       "4         Tyynenmerenkatu 9, 00220 Helsinki, Finland  1005   \n",
       "\n",
       "                geometry          x          y  \n",
       "0   POINT (24.93 60.168)  24.930170  60.168373  \n",
       "1   POINT (24.942 60.17)  24.941893  60.169866  \n",
       "2  POINT (24.977 60.187)  24.977400  60.187359  \n",
       "3  POINT (25.092 60.214)  25.091964  60.214481  \n",
       "4  POINT (24.921 60.157)  24.921485  60.156578  "
      ]
     },
     "execution_count": 140,
     "metadata": {},
     "output_type": "execute_result"
    }
   ],
   "source": [
    "# Calculate x coordinates\n",
    "points['x'] = points.apply(getPointCoords, geom='geometry', coord_type='x', axis=1)\n",
    "\n",
    "# Calculate y coordinates\n",
    "points['y'] = points.apply(getPointCoords, geom='geometry', coord_type='y', axis=1)\n",
    "\n",
    "points.head()"
   ]
  },
  {
   "cell_type": "markdown",
   "metadata": {
    "id": "Iuo59JqozGrJ"
   },
   "source": [
    "Note:\n",
    "\n",
    "Bokeh ColumnDataSource do not understand Shapely geometry -objects. Thus, we need to remove the geometry -column before convert our DataFrame into a ColumnDataSouce."
   ]
  },
  {
   "cell_type": "code",
   "execution_count": 141,
   "metadata": {
    "colab": {
     "base_uri": "https://localhost:8080/",
     "height": 206
    },
    "executionInfo": {
     "elapsed": 109,
     "status": "ok",
     "timestamp": 1748778814373,
     "user": {
      "displayName": "Abdullah Wahdain",
      "userId": "04503149618096469309"
     },
     "user_tz": -180
    },
    "id": "QpJV7IUGzFx2",
    "outputId": "0121b263-69d0-4063-af84-ebc20f6db271"
   },
   "outputs": [
    {
     "data": {
      "text/html": [
       "<div>\n",
       "<style scoped>\n",
       "    .dataframe tbody tr th:only-of-type {\n",
       "        vertical-align: middle;\n",
       "    }\n",
       "\n",
       "    .dataframe tbody tr th {\n",
       "        vertical-align: top;\n",
       "    }\n",
       "\n",
       "    .dataframe thead th {\n",
       "        text-align: right;\n",
       "    }\n",
       "</style>\n",
       "<table border=\"1\" class=\"dataframe\">\n",
       "  <thead>\n",
       "    <tr style=\"text-align: right;\">\n",
       "      <th></th>\n",
       "      <th>address</th>\n",
       "      <th>id</th>\n",
       "      <th>x</th>\n",
       "      <th>y</th>\n",
       "    </tr>\n",
       "  </thead>\n",
       "  <tbody>\n",
       "    <tr>\n",
       "      <th>0</th>\n",
       "      <td>Kampinkuja 1, 00100 Helsinki, Finland</td>\n",
       "      <td>1001</td>\n",
       "      <td>24.930170</td>\n",
       "      <td>60.168373</td>\n",
       "    </tr>\n",
       "    <tr>\n",
       "      <th>1</th>\n",
       "      <td>Kaivokatu 8, 00101 Helsinki, Finland</td>\n",
       "      <td>1002</td>\n",
       "      <td>24.941893</td>\n",
       "      <td>60.169866</td>\n",
       "    </tr>\n",
       "    <tr>\n",
       "      <th>2</th>\n",
       "      <td>Hermanstads strandsväg 1, 00580 Helsingfors, F...</td>\n",
       "      <td>1003</td>\n",
       "      <td>24.977400</td>\n",
       "      <td>60.187359</td>\n",
       "    </tr>\n",
       "    <tr>\n",
       "      <th>3</th>\n",
       "      <td>Itäväylä, 00900 Helsinki, Finland</td>\n",
       "      <td>1004</td>\n",
       "      <td>25.091964</td>\n",
       "      <td>60.214481</td>\n",
       "    </tr>\n",
       "    <tr>\n",
       "      <th>4</th>\n",
       "      <td>Tyynenmerenkatu 9, 00220 Helsinki, Finland</td>\n",
       "      <td>1005</td>\n",
       "      <td>24.921485</td>\n",
       "      <td>60.156578</td>\n",
       "    </tr>\n",
       "  </tbody>\n",
       "</table>\n",
       "</div>"
      ],
      "text/plain": [
       "                                             address    id          x  \\\n",
       "0              Kampinkuja 1, 00100 Helsinki, Finland  1001  24.930170   \n",
       "1               Kaivokatu 8, 00101 Helsinki, Finland  1002  24.941893   \n",
       "2  Hermanstads strandsväg 1, 00580 Helsingfors, F...  1003  24.977400   \n",
       "3                  Itäväylä, 00900 Helsinki, Finland  1004  25.091964   \n",
       "4         Tyynenmerenkatu 9, 00220 Helsinki, Finland  1005  24.921485   \n",
       "\n",
       "           y  \n",
       "0  60.168373  \n",
       "1  60.169866  \n",
       "2  60.187359  \n",
       "3  60.214481  \n",
       "4  60.156578  "
      ]
     },
     "execution_count": 141,
     "metadata": {},
     "output_type": "execute_result"
    }
   ],
   "source": [
    "p_df=points.drop('geometry', axis=1).copy()\n",
    "p_df.head()"
   ]
  },
  {
   "cell_type": "code",
   "execution_count": 142,
   "metadata": {
    "colab": {
     "base_uri": "https://localhost:8080/",
     "height": 34
    },
    "executionInfo": {
     "elapsed": 207,
     "status": "ok",
     "timestamp": 1748778817471,
     "user": {
      "displayName": "Abdullah Wahdain",
      "userId": "04503149618096469309"
     },
     "user_tz": -180
    },
    "id": "6x2u-h5yzfhX",
    "outputId": "3901c68c-5259-4c60-8c43-3a03ea5de37f"
   },
   "outputs": [
    {
     "data": {
      "text/html": [
       "<div style=\"display: table;\"><div style=\"display: table-row;\"><div style=\"display: table-cell;\"><b title=\"bokeh.models.sources.ColumnDataSource\">ColumnDataSource</b>(</div><div style=\"display: table-cell;\">id&nbsp;=&nbsp;'p1202', <span id=\"p1206\" style=\"cursor: pointer;\">&hellip;)</span></div></div><div class=\"p1205\" style=\"display: none;\"><div style=\"display: table-cell;\"></div><div style=\"display: table-cell;\">data&nbsp;=&nbsp;{'index': array([ 0,  1,  2,  3,  4,  5,  6,  7,  8,  9, 10, 11, 12, 13, 14, 15, 16,\n",
       "       17, 18, 19, 20, 21, 22, 23, 24, 25, 26, 27, 28, 29, 30, 31, 32, 33,\n",
       "       34], dtype=int64), 'address': array(['Kampinkuja 1, 00100 Helsinki, Finland',\n",
       "       'Kaivokatu 8, 00101 Helsinki, Finland',\n",
       "       'Hermanstads strandsväg 1, 00580 Helsingfors, Finland',\n",
       "       'Itäväylä, 00900 Helsinki, Finland',\n",
       "       'Tyynenmerenkatu 9, 00220 Helsinki, Finland',\n",
       "       'Kontulantie 18, 00940 Helsinki, Finland',\n",
       "       'Itäväylä, 00800 Helsinki, Finland',\n",
       "       'Tapulikaupungintie 3, 00750 Helsinki, Finland',\n",
       "       'Sompionpolku 2, 00730 Helsinki, Finland',\n",
       "       'Atomitie 5, 00370 Helsinki, Finland',\n",
       "       'Rautatientori 1, 00100 Helsinki, Finland',\n",
       "       'Kuparitie 8, 00440 Helsinki, Finland',\n",
       "       'Trumstigen 8, 00420 Helsingfors, Finland',\n",
       "       'Kullatorpsvägen 1, 00620 Helsingfors, Finland',\n",
       "       'Malminkaari 15, 00700 Helsinki, Finland',\n",
       "       'Kylätie 23, 00320 Helsinki, Finland',\n",
       "       'Malminkartanontie 17, 00410 Helsinki, Finland',\n",
       "       'Åggelby torg 2b, 00640 Helsingfors, Finland',\n",
       "       'Bangårdsvägen 6, 00101 Helsingfors, Finland',\n",
       "       'Pitäjänmäentie 15, 00370 Helsinki, Finland',\n",
       "       'Eskolantie 2, 00720 Helsinki, Finland',\n",
       "       'Tattariharjuntie, 00700 Helsinki, Finland',\n",
       "       'Tallinnanaukio 1, 00930 Helsinki, Finland',\n",
       "       'Tyynylaavantie 7, 00980 Helsinki, Finland',\n",
       "       'Varvasmäenkuja, 00920 Helsinki, Finland',\n",
       "       'Mellungsbackastråket 6, 00970 Helsingfors, Finland',\n",
       "       'Vasastigen 2, 00101 Helsingfors, Finland',\n",
       "       'Hiihtäjäntie 2, 00810 Helsinki, Finland',\n",
       "       'Ukko-Pekan porras, 00570 Helsinki, Finland',\n",
       "       'Siltasaarenkatu 16, 00530 Helsinki, Finland',\n",
       "       'Urho Kekkosen katu 1, 00100 Helsinki, Finland',\n",
       "       'Gräsviksgatan 17, 00101 Helsingfors, Finland',\n",
       "       'Stillahavsgatan 3, 00220 Helsingfors, Finland',\n",
       "       'Vilhelmsgatan 4, 00101 Helsingfors, Finland',\n",
       "       'Torisilta, 00980 Helsinki, Finland'], dtype=object), 'id': array([1001, 1002, 1003, 1004, 1005, 1006, 1007, 1008, 1009, 1010, 1011,\n",
       "       1012, 1013, 1014, 1015, 1016, 1017, 1018, 1019, 1020, 1021, 1022,\n",
       "       1023, 1024, 1025, 1026, 1027, 1028, 1029, 1030, 1031, 1032, 1033,\n",
       "       1034, 1035]), 'x': array([24.9301701, 24.9418933, 24.9774004, 25.0919641, 24.9214846,\n",
       "       25.0816923, 25.042239 , 25.035855 , 25.0291078, 24.8718598,\n",
       "       24.94251  , 24.8840504, 24.877383 , 24.9483202, 25.0125655,\n",
       "       24.893153 , 24.86186  , 24.9670533, 24.9334051, 24.8609335,\n",
       "       24.9934979, 25.040583 , 25.0778094, 25.1424936, 25.0756547,\n",
       "       25.1080054, 24.9609122, 25.0291263, 25.0068399, 24.9494874,\n",
       "       24.9337569, 24.9250072, 24.9214046, 24.9468514, 25.1204966]), 'y': array([60.1683731, 60.1698665, 60.1873588, 60.2144809, 60.1565781,\n",
       "       60.2348906, 60.2033879, 60.2753891, 60.2633799, 60.2224363,\n",
       "       60.1711874, 60.2306474, 60.240163 , 60.2216334, 60.2514983,\n",
       "       60.2177823, 60.2485471, 60.2291135, 60.1986856, 60.2240139,\n",
       "       60.2436961, 60.2444424, 60.2096661, 60.2075102, 60.225599 ,\n",
       "       60.2382054, 60.1878903, 60.1941394, 60.1883752, 60.1793862,\n",
       "       60.1694809, 60.1650014, 60.159069 , 60.1719108, 60.2054898])},</div></div><div class=\"p1205\" style=\"display: none;\"><div style=\"display: table-cell;\"></div><div style=\"display: table-cell;\">default_values&nbsp;=&nbsp;{},</div></div><div class=\"p1205\" style=\"display: none;\"><div style=\"display: table-cell;\"></div><div style=\"display: table-cell;\">js_event_callbacks&nbsp;=&nbsp;{},</div></div><div class=\"p1205\" style=\"display: none;\"><div style=\"display: table-cell;\"></div><div style=\"display: table-cell;\">js_property_callbacks&nbsp;=&nbsp;{},</div></div><div class=\"p1205\" style=\"display: none;\"><div style=\"display: table-cell;\"></div><div style=\"display: table-cell;\">name&nbsp;=&nbsp;None,</div></div><div class=\"p1205\" style=\"display: none;\"><div style=\"display: table-cell;\"></div><div style=\"display: table-cell;\">selected&nbsp;=&nbsp;Selection(id='p1203', ...),</div></div><div class=\"p1205\" style=\"display: none;\"><div style=\"display: table-cell;\"></div><div style=\"display: table-cell;\">selection_policy&nbsp;=&nbsp;UnionRenderers(id='p1204', ...),</div></div><div class=\"p1205\" style=\"display: none;\"><div style=\"display: table-cell;\"></div><div style=\"display: table-cell;\">subscribed_events&nbsp;=&nbsp;PropertyValueSet(),</div></div><div class=\"p1205\" style=\"display: none;\"><div style=\"display: table-cell;\"></div><div style=\"display: table-cell;\">syncable&nbsp;=&nbsp;True,</div></div><div class=\"p1205\" style=\"display: none;\"><div style=\"display: table-cell;\"></div><div style=\"display: table-cell;\">tags&nbsp;=&nbsp;[])</div></div></div>\n",
       "<script>\n",
       "(function() {\n",
       "  let expanded = false;\n",
       "  const ellipsis = document.getElementById(\"p1206\");\n",
       "  ellipsis.addEventListener(\"click\", function() {\n",
       "    const rows = document.getElementsByClassName(\"p1205\");\n",
       "    for (let i = 0; i < rows.length; i++) {\n",
       "      const el = rows[i];\n",
       "      el.style.display = expanded ? \"none\" : \"table-row\";\n",
       "    }\n",
       "    ellipsis.innerHTML = expanded ? \"&hellip;)\" : \"&lsaquo;&lsaquo;&lsaquo;\";\n",
       "    expanded = !expanded;\n",
       "  });\n",
       "})();\n",
       "</script>\n"
      ],
      "text/plain": [
       "ColumnDataSource(id='p1202', ...)"
      ]
     },
     "execution_count": 142,
     "metadata": {},
     "output_type": "execute_result"
    }
   ],
   "source": [
    "# Convert  pandas DataFrame into a ColumnDataSource\n",
    "from bokeh.models import ColumnDataSource\n",
    "psource = ColumnDataSource(p_df)\n",
    "psource"
   ]
  },
  {
   "cell_type": "code",
   "execution_count": 143,
   "metadata": {
    "colab": {
     "base_uri": "https://localhost:8080/",
     "height": 142
    },
    "executionInfo": {
     "elapsed": 129,
     "status": "ok",
     "timestamp": 1748778820552,
     "user": {
      "displayName": "Abdullah Wahdain",
      "userId": "04503149618096469309"
     },
     "user_tz": -180
    },
    "id": "StI3mcBMz0om",
    "outputId": "f665b998-3a46-4c54-ad07-1d139d94c976"
   },
   "outputs": [
    {
     "name": "stderr",
     "output_type": "stream",
     "text": [
      "C:\\Users\\abdul\\AppData\\Local\\Temp\\ipykernel_1808\\4197634704.py:11: UserWarning: save() called but no resources were supplied and output_file(...) was never called, defaulting to resources.CDN\n",
      "  save(p, outfp)\n",
      "C:\\Users\\abdul\\AppData\\Local\\Temp\\ipykernel_1808\\4197634704.py:11: UserWarning: save() called but no title was supplied and output_file(...) was never called, using default title 'Bokeh Plot'\n",
      "  save(p, outfp)\n"
     ]
    },
    {
     "data": {
      "text/plain": [
       "'C:\\\\Users\\\\abdul\\\\Downloads\\\\dataE5\\\\dataE5\\\\points_map.html'"
      ]
     },
     "execution_count": 143,
     "metadata": {},
     "output_type": "execute_result"
    }
   ],
   "source": [
    "# Initialize our plot figure\n",
    "p = figure(title=\"A map of address points from a Shapefile\")\n",
    "\n",
    "# Add the points to the map from our 'psource' ColumnDataSource -object\n",
    "p.scatter('x', 'y', source=psource, color='red', size=10)\n",
    "\n",
    "# Output filepath\n",
    "outfp = r\"C:\\\\Users\\\\abdul\\\\Downloads\\\\dataE5\\\\dataE5\\\\points_map.html\"\n",
    "\n",
    "# Save the map\n",
    "save(p, outfp)"
   ]
  },
  {
   "cell_type": "code",
   "execution_count": 144,
   "metadata": {
    "executionInfo": {
     "elapsed": 3,
     "status": "ok",
     "timestamp": 1748778827506,
     "user": {
      "displayName": "Abdullah Wahdain",
      "userId": "04503149618096469309"
     },
     "user_tz": -180
    },
    "id": "PZLrlwdM0lPf"
   },
   "outputs": [],
   "source": [
    "# Adding interactivity to the map\n",
    "from bokeh.models import HoverTool"
   ]
  },
  {
   "cell_type": "code",
   "execution_count": 145,
   "metadata": {
    "colab": {
     "base_uri": "https://localhost:8080/",
     "height": 125
    },
    "executionInfo": {
     "elapsed": 95,
     "status": "ok",
     "timestamp": 1748778833385,
     "user": {
      "displayName": "Abdullah Wahdain",
      "userId": "04503149618096469309"
     },
     "user_tz": -180
    },
    "id": "XpQiPYem1lov",
    "outputId": "e51ab8e4-a76e-457b-fd3d-ace1973a92f1"
   },
   "outputs": [
    {
     "name": "stderr",
     "output_type": "stream",
     "text": [
      "C:\\Users\\abdul\\AppData\\Local\\Temp\\ipykernel_1808\\2757683203.py:13: UserWarning: save() called but no resources were supplied and output_file(...) was never called, defaulting to resources.CDN\n",
      "  save(p, outfp)\n",
      "C:\\Users\\abdul\\AppData\\Local\\Temp\\ipykernel_1808\\2757683203.py:13: UserWarning: save() called but no title was supplied and output_file(...) was never called, using default title 'Bokeh Plot'\n",
      "  save(p, outfp)\n"
     ]
    },
    {
     "data": {
      "text/plain": [
       "'C:\\\\Users\\\\abdul\\\\Downloads\\\\dataE5\\\\dataE5\\\\points_map_hoover.html'"
      ]
     },
     "execution_count": 145,
     "metadata": {},
     "output_type": "execute_result"
    }
   ],
   "source": [
    "# Initialize tools\n",
    "my_hover = HoverTool()\n",
    "\n",
    "# Tell the HoverTool what informaation it should show\n",
    "my_hover.tooltips = [('Address of the point', '@address')]\n",
    "\n",
    "# Add the tool into our plot\n",
    "p.add_tools(my_hover)\n",
    "\n",
    "# File path\n",
    "outfp = r\"C:\\\\Users\\\\abdul\\\\Downloads\\\\dataE5\\\\dataE5\\\\points_map_hoover.html\"\n",
    "\n",
    "save(p, outfp)"
   ]
  }
 ],
 "metadata": {
  "colab": {
   "authorship_tag": "ABX9TyOzJGBttfxZMGt4Jl0xjYu0",
   "provenance": []
  },
  "kernelspec": {
   "display_name": "Python [conda env:base] *",
   "language": "python",
   "name": "conda-base-py"
  },
  "language_info": {
   "codemirror_mode": {
    "name": "ipython",
    "version": 3
   },
   "file_extension": ".py",
   "mimetype": "text/x-python",
   "name": "python",
   "nbconvert_exporter": "python",
   "pygments_lexer": "ipython3",
   "version": "3.12.3"
  }
 },
 "nbformat": 4,
 "nbformat_minor": 4
}
